{
 "cells": [
  {
   "cell_type": "markdown",
   "id": "6fa46a15",
   "metadata": {},
   "source": [
    "# Анализ базы стартапа книг по подписке"
   ]
  },
  {
   "cell_type": "markdown",
   "id": "5afb758a",
   "metadata": {},
   "source": [
    "**Цель проекта**\n",
    "\n",
    "Работа делается с целью изучения базы данных купленного стартапа. Изучение особенностей данных позволит помочь сформулировать тезисы о пользе приложения для пользователей.\n",
    "\n",
    "**Исходные данные**\n",
    "\n",
    "База данных `PostgreSQL` \n",
    "\n",
    "Название: `data-analyst-final-project-db` \n",
    "\n",
    "Таблицы: `books` `authors` `ratings` `reviews` и `publishers`"
   ]
  },
  {
   "cell_type": "markdown",
   "id": "1db4c920",
   "metadata": {},
   "source": [
    "## Импорт библиотек, подготовка соединения"
   ]
  },
  {
   "cell_type": "code",
   "execution_count": 1,
   "id": "2c82dabf",
   "metadata": {},
   "outputs": [],
   "source": [
    "import pandas as pd\n",
    "from sqlalchemy import text, create_engine\n",
    "\n",
    "pd.set_option('display.max_colwidth', 0)"
   ]
  },
  {
   "cell_type": "code",
   "execution_count": 2,
   "id": "f5ac2942",
   "metadata": {},
   "outputs": [],
   "source": [
    "db_config = {'user': 'praktikum_student', # username\n",
    "'pwd': 'Sdf4$2;d-d30pp', # password\n",
    "'host': 'rc1b-wcoijxj3yxfsf3fs.mdb.yandexcloud.net',\n",
    "'port': 6432, # port\n",
    "'db': 'data-analyst-final-project-db'} # db name\n",
    "connection_string = 'postgresql://{user}:{pwd}@{host}:{port}/{db}'.format(**db_config)\n",
    "\n",
    "# saving connector\n",
    "engine = create_engine(connection_string, connect_args={'sslmode':'require'})"
   ]
  },
  {
   "cell_type": "markdown",
   "id": "58cd837a",
   "metadata": {},
   "source": [
    "## Первичный анализ данных"
   ]
  },
  {
   "cell_type": "markdown",
   "id": "c57a22d3",
   "metadata": {},
   "source": [
    "Отобразим первые пять строк всех таблиц"
   ]
  },
  {
   "cell_type": "code",
   "execution_count": 3,
   "id": "561646b8",
   "metadata": {},
   "outputs": [
    {
     "data": {
      "text/html": [
       "<div>\n",
       "<style scoped>\n",
       "    .dataframe tbody tr th:only-of-type {\n",
       "        vertical-align: middle;\n",
       "    }\n",
       "\n",
       "    .dataframe tbody tr th {\n",
       "        vertical-align: top;\n",
       "    }\n",
       "\n",
       "    .dataframe thead th {\n",
       "        text-align: right;\n",
       "    }\n",
       "</style>\n",
       "<table border=\"1\" class=\"dataframe\">\n",
       "  <thead>\n",
       "    <tr style=\"text-align: right;\">\n",
       "      <th></th>\n",
       "      <th>book_id</th>\n",
       "      <th>author_id</th>\n",
       "      <th>title</th>\n",
       "      <th>num_pages</th>\n",
       "      <th>publication_date</th>\n",
       "      <th>publisher_id</th>\n",
       "    </tr>\n",
       "  </thead>\n",
       "  <tbody>\n",
       "    <tr>\n",
       "      <th>0</th>\n",
       "      <td>1</td>\n",
       "      <td>546</td>\n",
       "      <td>'Salem's Lot</td>\n",
       "      <td>594</td>\n",
       "      <td>2005-11-01</td>\n",
       "      <td>93</td>\n",
       "    </tr>\n",
       "    <tr>\n",
       "      <th>1</th>\n",
       "      <td>2</td>\n",
       "      <td>465</td>\n",
       "      <td>1 000 Places to See Before You Die</td>\n",
       "      <td>992</td>\n",
       "      <td>2003-05-22</td>\n",
       "      <td>336</td>\n",
       "    </tr>\n",
       "    <tr>\n",
       "      <th>2</th>\n",
       "      <td>3</td>\n",
       "      <td>407</td>\n",
       "      <td>13 Little Blue Envelopes (Little Blue Envelope  #1)</td>\n",
       "      <td>322</td>\n",
       "      <td>2010-12-21</td>\n",
       "      <td>135</td>\n",
       "    </tr>\n",
       "    <tr>\n",
       "      <th>3</th>\n",
       "      <td>4</td>\n",
       "      <td>82</td>\n",
       "      <td>1491: New Revelations of the Americas Before Columbus</td>\n",
       "      <td>541</td>\n",
       "      <td>2006-10-10</td>\n",
       "      <td>309</td>\n",
       "    </tr>\n",
       "    <tr>\n",
       "      <th>4</th>\n",
       "      <td>5</td>\n",
       "      <td>125</td>\n",
       "      <td>1776</td>\n",
       "      <td>386</td>\n",
       "      <td>2006-07-04</td>\n",
       "      <td>268</td>\n",
       "    </tr>\n",
       "  </tbody>\n",
       "</table>\n",
       "</div>"
      ],
      "text/plain": [
       "   book_id  author_id                                                  title  \\\n",
       "0  1        546        'Salem's Lot                                            \n",
       "1  2        465        1 000 Places to See Before You Die                      \n",
       "2  3        407        13 Little Blue Envelopes (Little Blue Envelope  #1)     \n",
       "3  4        82         1491: New Revelations of the Americas Before Columbus   \n",
       "4  5        125        1776                                                    \n",
       "\n",
       "   num_pages publication_date  publisher_id  \n",
       "0  594        2005-11-01       93            \n",
       "1  992        2003-05-22       336           \n",
       "2  322        2010-12-21       135           \n",
       "3  541        2006-10-10       309           \n",
       "4  386        2006-07-04       268           "
      ]
     },
     "execution_count": 3,
     "metadata": {},
     "output_type": "execute_result"
    }
   ],
   "source": [
    "query = '''SELECT * FROM books LIMIT 5'''\n",
    "\n",
    "pd.io.sql.read_sql(sql=text(query), con = engine)"
   ]
  },
  {
   "cell_type": "code",
   "execution_count": 4,
   "id": "f09e6a34",
   "metadata": {},
   "outputs": [
    {
     "data": {
      "text/html": [
       "<div>\n",
       "<style scoped>\n",
       "    .dataframe tbody tr th:only-of-type {\n",
       "        vertical-align: middle;\n",
       "    }\n",
       "\n",
       "    .dataframe tbody tr th {\n",
       "        vertical-align: top;\n",
       "    }\n",
       "\n",
       "    .dataframe thead th {\n",
       "        text-align: right;\n",
       "    }\n",
       "</style>\n",
       "<table border=\"1\" class=\"dataframe\">\n",
       "  <thead>\n",
       "    <tr style=\"text-align: right;\">\n",
       "      <th></th>\n",
       "      <th>author_id</th>\n",
       "      <th>author</th>\n",
       "    </tr>\n",
       "  </thead>\n",
       "  <tbody>\n",
       "    <tr>\n",
       "      <th>0</th>\n",
       "      <td>1</td>\n",
       "      <td>A.S. Byatt</td>\n",
       "    </tr>\n",
       "    <tr>\n",
       "      <th>1</th>\n",
       "      <td>2</td>\n",
       "      <td>Aesop/Laura Harris/Laura Gibbs</td>\n",
       "    </tr>\n",
       "    <tr>\n",
       "      <th>2</th>\n",
       "      <td>3</td>\n",
       "      <td>Agatha Christie</td>\n",
       "    </tr>\n",
       "    <tr>\n",
       "      <th>3</th>\n",
       "      <td>4</td>\n",
       "      <td>Alan Brennert</td>\n",
       "    </tr>\n",
       "    <tr>\n",
       "      <th>4</th>\n",
       "      <td>5</td>\n",
       "      <td>Alan Moore/David   Lloyd</td>\n",
       "    </tr>\n",
       "  </tbody>\n",
       "</table>\n",
       "</div>"
      ],
      "text/plain": [
       "   author_id                          author\n",
       "0  1          A.S. Byatt                    \n",
       "1  2          Aesop/Laura Harris/Laura Gibbs\n",
       "2  3          Agatha Christie               \n",
       "3  4          Alan Brennert                 \n",
       "4  5          Alan Moore/David   Lloyd      "
      ]
     },
     "execution_count": 4,
     "metadata": {},
     "output_type": "execute_result"
    }
   ],
   "source": [
    "query = '''SELECT * FROM authors LIMIT 5'''\n",
    "\n",
    "pd.io.sql.read_sql(sql=text(query), con = engine)"
   ]
  },
  {
   "cell_type": "code",
   "execution_count": 5,
   "id": "34a9e304",
   "metadata": {},
   "outputs": [
    {
     "data": {
      "text/html": [
       "<div>\n",
       "<style scoped>\n",
       "    .dataframe tbody tr th:only-of-type {\n",
       "        vertical-align: middle;\n",
       "    }\n",
       "\n",
       "    .dataframe tbody tr th {\n",
       "        vertical-align: top;\n",
       "    }\n",
       "\n",
       "    .dataframe thead th {\n",
       "        text-align: right;\n",
       "    }\n",
       "</style>\n",
       "<table border=\"1\" class=\"dataframe\">\n",
       "  <thead>\n",
       "    <tr style=\"text-align: right;\">\n",
       "      <th></th>\n",
       "      <th>rating_id</th>\n",
       "      <th>book_id</th>\n",
       "      <th>username</th>\n",
       "      <th>rating</th>\n",
       "    </tr>\n",
       "  </thead>\n",
       "  <tbody>\n",
       "    <tr>\n",
       "      <th>0</th>\n",
       "      <td>1</td>\n",
       "      <td>1</td>\n",
       "      <td>ryanfranco</td>\n",
       "      <td>4</td>\n",
       "    </tr>\n",
       "    <tr>\n",
       "      <th>1</th>\n",
       "      <td>2</td>\n",
       "      <td>1</td>\n",
       "      <td>grantpatricia</td>\n",
       "      <td>2</td>\n",
       "    </tr>\n",
       "    <tr>\n",
       "      <th>2</th>\n",
       "      <td>3</td>\n",
       "      <td>1</td>\n",
       "      <td>brandtandrea</td>\n",
       "      <td>5</td>\n",
       "    </tr>\n",
       "    <tr>\n",
       "      <th>3</th>\n",
       "      <td>4</td>\n",
       "      <td>2</td>\n",
       "      <td>lorichen</td>\n",
       "      <td>3</td>\n",
       "    </tr>\n",
       "    <tr>\n",
       "      <th>4</th>\n",
       "      <td>5</td>\n",
       "      <td>2</td>\n",
       "      <td>mariokeller</td>\n",
       "      <td>2</td>\n",
       "    </tr>\n",
       "  </tbody>\n",
       "</table>\n",
       "</div>"
      ],
      "text/plain": [
       "   rating_id  book_id       username  rating\n",
       "0  1          1        ryanfranco     4     \n",
       "1  2          1        grantpatricia  2     \n",
       "2  3          1        brandtandrea   5     \n",
       "3  4          2        lorichen       3     \n",
       "4  5          2        mariokeller    2     "
      ]
     },
     "execution_count": 5,
     "metadata": {},
     "output_type": "execute_result"
    }
   ],
   "source": [
    "query = '''SELECT * FROM ratings LIMIT 5'''\n",
    "\n",
    "pd.io.sql.read_sql(sql=text(query), con = engine)"
   ]
  },
  {
   "cell_type": "code",
   "execution_count": 6,
   "id": "0bb2a31b",
   "metadata": {},
   "outputs": [
    {
     "data": {
      "text/html": [
       "<div>\n",
       "<style scoped>\n",
       "    .dataframe tbody tr th:only-of-type {\n",
       "        vertical-align: middle;\n",
       "    }\n",
       "\n",
       "    .dataframe tbody tr th {\n",
       "        vertical-align: top;\n",
       "    }\n",
       "\n",
       "    .dataframe thead th {\n",
       "        text-align: right;\n",
       "    }\n",
       "</style>\n",
       "<table border=\"1\" class=\"dataframe\">\n",
       "  <thead>\n",
       "    <tr style=\"text-align: right;\">\n",
       "      <th></th>\n",
       "      <th>review_id</th>\n",
       "      <th>book_id</th>\n",
       "      <th>username</th>\n",
       "      <th>text</th>\n",
       "    </tr>\n",
       "  </thead>\n",
       "  <tbody>\n",
       "    <tr>\n",
       "      <th>0</th>\n",
       "      <td>1</td>\n",
       "      <td>1</td>\n",
       "      <td>brandtandrea</td>\n",
       "      <td>Mention society tell send professor analysis. Over provide race technology continue these.</td>\n",
       "    </tr>\n",
       "    <tr>\n",
       "      <th>1</th>\n",
       "      <td>2</td>\n",
       "      <td>1</td>\n",
       "      <td>ryanfranco</td>\n",
       "      <td>Foot glass pretty audience hit themselves. Among admit investment argue security.</td>\n",
       "    </tr>\n",
       "    <tr>\n",
       "      <th>2</th>\n",
       "      <td>3</td>\n",
       "      <td>2</td>\n",
       "      <td>lorichen</td>\n",
       "      <td>Listen treat keep worry. Miss husband tax but person sport treatment industry. Kitchen decision deep the. Social party body the.</td>\n",
       "    </tr>\n",
       "    <tr>\n",
       "      <th>3</th>\n",
       "      <td>4</td>\n",
       "      <td>3</td>\n",
       "      <td>johnsonamanda</td>\n",
       "      <td>Finally month interesting blue could nature cultural bit. Prepare beat finish grow that smile teach. Dream me play near.</td>\n",
       "    </tr>\n",
       "    <tr>\n",
       "      <th>4</th>\n",
       "      <td>5</td>\n",
       "      <td>3</td>\n",
       "      <td>scotttamara</td>\n",
       "      <td>Nation purpose heavy give wait song will. List dinner another whole positive radio fast. Music staff many green.</td>\n",
       "    </tr>\n",
       "  </tbody>\n",
       "</table>\n",
       "</div>"
      ],
      "text/plain": [
       "   review_id  book_id       username  \\\n",
       "0  1          1        brandtandrea    \n",
       "1  2          1        ryanfranco      \n",
       "2  3          2        lorichen        \n",
       "3  4          3        johnsonamanda   \n",
       "4  5          3        scotttamara     \n",
       "\n",
       "                                                                                                                               text  \n",
       "0  Mention society tell send professor analysis. Over provide race technology continue these.                                        \n",
       "1  Foot glass pretty audience hit themselves. Among admit investment argue security.                                                 \n",
       "2  Listen treat keep worry. Miss husband tax but person sport treatment industry. Kitchen decision deep the. Social party body the.  \n",
       "3  Finally month interesting blue could nature cultural bit. Prepare beat finish grow that smile teach. Dream me play near.          \n",
       "4  Nation purpose heavy give wait song will. List dinner another whole positive radio fast. Music staff many green.                  "
      ]
     },
     "execution_count": 6,
     "metadata": {},
     "output_type": "execute_result"
    }
   ],
   "source": [
    "query = '''SELECT * FROM reviews LIMIT 5'''\n",
    "\n",
    "pd.io.sql.read_sql(sql=text(query), con = engine)"
   ]
  },
  {
   "cell_type": "code",
   "execution_count": 7,
   "id": "27952fb7",
   "metadata": {},
   "outputs": [
    {
     "data": {
      "text/html": [
       "<div>\n",
       "<style scoped>\n",
       "    .dataframe tbody tr th:only-of-type {\n",
       "        vertical-align: middle;\n",
       "    }\n",
       "\n",
       "    .dataframe tbody tr th {\n",
       "        vertical-align: top;\n",
       "    }\n",
       "\n",
       "    .dataframe thead th {\n",
       "        text-align: right;\n",
       "    }\n",
       "</style>\n",
       "<table border=\"1\" class=\"dataframe\">\n",
       "  <thead>\n",
       "    <tr style=\"text-align: right;\">\n",
       "      <th></th>\n",
       "      <th>publisher_id</th>\n",
       "      <th>publisher</th>\n",
       "    </tr>\n",
       "  </thead>\n",
       "  <tbody>\n",
       "    <tr>\n",
       "      <th>0</th>\n",
       "      <td>1</td>\n",
       "      <td>Ace</td>\n",
       "    </tr>\n",
       "    <tr>\n",
       "      <th>1</th>\n",
       "      <td>2</td>\n",
       "      <td>Ace Book</td>\n",
       "    </tr>\n",
       "    <tr>\n",
       "      <th>2</th>\n",
       "      <td>3</td>\n",
       "      <td>Ace Books</td>\n",
       "    </tr>\n",
       "    <tr>\n",
       "      <th>3</th>\n",
       "      <td>4</td>\n",
       "      <td>Ace Hardcover</td>\n",
       "    </tr>\n",
       "    <tr>\n",
       "      <th>4</th>\n",
       "      <td>5</td>\n",
       "      <td>Addison Wesley Publishing Company</td>\n",
       "    </tr>\n",
       "  </tbody>\n",
       "</table>\n",
       "</div>"
      ],
      "text/plain": [
       "   publisher_id                          publisher\n",
       "0  1             Ace                              \n",
       "1  2             Ace Book                         \n",
       "2  3             Ace Books                        \n",
       "3  4             Ace Hardcover                    \n",
       "4  5             Addison Wesley Publishing Company"
      ]
     },
     "execution_count": 7,
     "metadata": {},
     "output_type": "execute_result"
    }
   ],
   "source": [
    "query = '''SELECT * FROM publishers LIMIT 5'''\n",
    "\n",
    "pd.io.sql.read_sql(sql=text(query), con = engine)"
   ]
  },
  {
   "cell_type": "markdown",
   "id": "0e4b4458",
   "metadata": {},
   "source": [
    "Структура данных соответствует описанию"
   ]
  },
  {
   "cell_type": "markdown",
   "id": "d43bdc5f",
   "metadata": {},
   "source": [
    "## Запросы"
   ]
  },
  {
   "cell_type": "markdown",
   "id": "3f830d8b",
   "metadata": {},
   "source": [
    "### Книги после 2000 года"
   ]
  },
  {
   "cell_type": "markdown",
   "id": "87a45d57",
   "metadata": {},
   "source": [
    "Найдем, сколько книг вышло после 1 января 2000 года"
   ]
  },
  {
   "cell_type": "code",
   "execution_count": 8,
   "id": "82e0f6fa",
   "metadata": {},
   "outputs": [
    {
     "data": {
      "text/html": [
       "<div>\n",
       "<style scoped>\n",
       "    .dataframe tbody tr th:only-of-type {\n",
       "        vertical-align: middle;\n",
       "    }\n",
       "\n",
       "    .dataframe tbody tr th {\n",
       "        vertical-align: top;\n",
       "    }\n",
       "\n",
       "    .dataframe thead th {\n",
       "        text-align: right;\n",
       "    }\n",
       "</style>\n",
       "<table border=\"1\" class=\"dataframe\">\n",
       "  <thead>\n",
       "    <tr style=\"text-align: right;\">\n",
       "      <th></th>\n",
       "      <th>count</th>\n",
       "    </tr>\n",
       "  </thead>\n",
       "  <tbody>\n",
       "    <tr>\n",
       "      <th>0</th>\n",
       "      <td>821</td>\n",
       "    </tr>\n",
       "  </tbody>\n",
       "</table>\n",
       "</div>"
      ],
      "text/plain": [
       "   count\n",
       "0  821  "
      ]
     },
     "execution_count": 8,
     "metadata": {},
     "output_type": "execute_result"
    }
   ],
   "source": [
    "query = '''\n",
    "SELECT COUNT(*) \n",
    "FROM books\n",
    "WHERE publication_date >= '2000-01-01'\n",
    "'''\n",
    "\n",
    "pd.io.sql.read_sql(sql=text(query), con = engine)"
   ]
  },
  {
   "cell_type": "markdown",
   "id": "098ac734",
   "metadata": {},
   "source": [
    "Сколько книг в базе всего?"
   ]
  },
  {
   "cell_type": "code",
   "execution_count": 9,
   "id": "e63fb89a",
   "metadata": {},
   "outputs": [
    {
     "data": {
      "text/html": [
       "<div>\n",
       "<style scoped>\n",
       "    .dataframe tbody tr th:only-of-type {\n",
       "        vertical-align: middle;\n",
       "    }\n",
       "\n",
       "    .dataframe tbody tr th {\n",
       "        vertical-align: top;\n",
       "    }\n",
       "\n",
       "    .dataframe thead th {\n",
       "        text-align: right;\n",
       "    }\n",
       "</style>\n",
       "<table border=\"1\" class=\"dataframe\">\n",
       "  <thead>\n",
       "    <tr style=\"text-align: right;\">\n",
       "      <th></th>\n",
       "      <th>count</th>\n",
       "    </tr>\n",
       "  </thead>\n",
       "  <tbody>\n",
       "    <tr>\n",
       "      <th>0</th>\n",
       "      <td>1000</td>\n",
       "    </tr>\n",
       "  </tbody>\n",
       "</table>\n",
       "</div>"
      ],
      "text/plain": [
       "   count\n",
       "0  1000 "
      ]
     },
     "execution_count": 9,
     "metadata": {},
     "output_type": "execute_result"
    }
   ],
   "source": [
    "query = '''\n",
    "SELECT COUNT(*) \n",
    "FROM books\n",
    "'''\n",
    "\n",
    "pd.io.sql.read_sql(sql=text(query), con = engine)"
   ]
  },
  {
   "cell_type": "markdown",
   "id": "a1f90a2c",
   "metadata": {},
   "source": [
    "Всего в базе 1000 книг, из них ~80 % вышло после 1 января 2000 года "
   ]
  },
  {
   "cell_type": "markdown",
   "id": "0a515997",
   "metadata": {},
   "source": [
    "### Количество обзоров, средняя оценка на книгу"
   ]
  },
  {
   "cell_type": "markdown",
   "id": "561ba8ea",
   "metadata": {},
   "source": [
    "Посчитаем количество обзоров и среднюю оценку для каждой книги"
   ]
  },
  {
   "cell_type": "code",
   "execution_count": 10,
   "id": "002c80b6",
   "metadata": {},
   "outputs": [
    {
     "data": {
      "text/html": [
       "<div>\n",
       "<style scoped>\n",
       "    .dataframe tbody tr th:only-of-type {\n",
       "        vertical-align: middle;\n",
       "    }\n",
       "\n",
       "    .dataframe tbody tr th {\n",
       "        vertical-align: top;\n",
       "    }\n",
       "\n",
       "    .dataframe thead th {\n",
       "        text-align: right;\n",
       "    }\n",
       "</style>\n",
       "<table border=\"1\" class=\"dataframe\">\n",
       "  <thead>\n",
       "    <tr style=\"text-align: right;\">\n",
       "      <th></th>\n",
       "      <th>title</th>\n",
       "      <th>review_cnt</th>\n",
       "      <th>avg_rating_rounded</th>\n",
       "    </tr>\n",
       "  </thead>\n",
       "  <tbody>\n",
       "    <tr>\n",
       "      <th>0</th>\n",
       "      <td>Twilight (Twilight  #1)</td>\n",
       "      <td>7</td>\n",
       "      <td>3.66</td>\n",
       "    </tr>\n",
       "    <tr>\n",
       "      <th>1</th>\n",
       "      <td>The Book Thief</td>\n",
       "      <td>6</td>\n",
       "      <td>4.26</td>\n",
       "    </tr>\n",
       "    <tr>\n",
       "      <th>2</th>\n",
       "      <td>Outlander (Outlander  #1)</td>\n",
       "      <td>6</td>\n",
       "      <td>4.13</td>\n",
       "    </tr>\n",
       "    <tr>\n",
       "      <th>3</th>\n",
       "      <td>Water for Elephants</td>\n",
       "      <td>6</td>\n",
       "      <td>3.98</td>\n",
       "    </tr>\n",
       "    <tr>\n",
       "      <th>4</th>\n",
       "      <td>The Da Vinci Code (Robert Langdon  #2)</td>\n",
       "      <td>6</td>\n",
       "      <td>3.83</td>\n",
       "    </tr>\n",
       "    <tr>\n",
       "      <th>...</th>\n",
       "      <td>...</td>\n",
       "      <td>...</td>\n",
       "      <td>...</td>\n",
       "    </tr>\n",
       "    <tr>\n",
       "      <th>995</th>\n",
       "      <td>The Cat in the Hat and Other Dr. Seuss Favorites</td>\n",
       "      <td>0</td>\n",
       "      <td>5.00</td>\n",
       "    </tr>\n",
       "    <tr>\n",
       "      <th>996</th>\n",
       "      <td>Anne Rice's The Vampire Lestat: A Graphic Novel</td>\n",
       "      <td>0</td>\n",
       "      <td>3.67</td>\n",
       "    </tr>\n",
       "    <tr>\n",
       "      <th>997</th>\n",
       "      <td>Essential Tales and Poems</td>\n",
       "      <td>0</td>\n",
       "      <td>4.00</td>\n",
       "    </tr>\n",
       "    <tr>\n",
       "      <th>998</th>\n",
       "      <td>Leonardo's Notebooks</td>\n",
       "      <td>0</td>\n",
       "      <td>4.00</td>\n",
       "    </tr>\n",
       "    <tr>\n",
       "      <th>999</th>\n",
       "      <td>The Natural Way to Draw</td>\n",
       "      <td>0</td>\n",
       "      <td>3.00</td>\n",
       "    </tr>\n",
       "  </tbody>\n",
       "</table>\n",
       "<p>1000 rows × 3 columns</p>\n",
       "</div>"
      ],
      "text/plain": [
       "                                                title  review_cnt  \\\n",
       "0    Twilight (Twilight  #1)                           7            \n",
       "1    The Book Thief                                    6            \n",
       "2    Outlander (Outlander  #1)                         6            \n",
       "3    Water for Elephants                               6            \n",
       "4    The Da Vinci Code (Robert Langdon  #2)            6            \n",
       "..                                      ...           ..            \n",
       "995  The Cat in the Hat and Other Dr. Seuss Favorites  0            \n",
       "996  Anne Rice's The Vampire Lestat: A Graphic Novel   0            \n",
       "997  Essential Tales and Poems                         0            \n",
       "998  Leonardo's Notebooks                              0            \n",
       "999  The Natural Way to Draw                           0            \n",
       "\n",
       "     avg_rating_rounded  \n",
       "0    3.66                \n",
       "1    4.26                \n",
       "2    4.13                \n",
       "3    3.98                \n",
       "4    3.83                \n",
       "..    ...                \n",
       "995  5.00                \n",
       "996  3.67                \n",
       "997  4.00                \n",
       "998  4.00                \n",
       "999  3.00                \n",
       "\n",
       "[1000 rows x 3 columns]"
      ]
     },
     "execution_count": 10,
     "metadata": {},
     "output_type": "execute_result"
    }
   ],
   "source": [
    "query = '''\n",
    "WITH\n",
    "rating_x_book AS\n",
    "(SELECT \n",
    "    book_id,\n",
    "    AVG(rating) AS avg_rating\n",
    "FROM ratings\n",
    "GROUP BY book_id\n",
    "ORDER BY avg_rating DESC),\n",
    "\n",
    "reviews_x_book AS\n",
    "(SELECT \n",
    "    book_id,\n",
    "    COUNT(review_id) AS review_cnt\n",
    "FROM reviews\n",
    "GROUP BY book_id\n",
    "ORDER BY review_cnt DESC)\n",
    "\n",
    "SELECT\n",
    "    title,\n",
    "    COALESCE(review_cnt, 0) AS review_cnt,\n",
    "    ROUND(avg_rating, 2) AS avg_rating_rounded\n",
    "FROM books AS b\n",
    "LEFT JOIN reviews_x_book ON b.book_id=reviews_x_book.book_id\n",
    "LEFT JOIN rating_x_book ON b.book_id=rating_x_book.book_id\n",
    "ORDER BY review_cnt DESC\n",
    "\n",
    "'''\n",
    "\n",
    "pd.io.sql.read_sql(sql=text(query), con = engine)"
   ]
  },
  {
   "cell_type": "markdown",
   "id": "e86e4666",
   "metadata": {},
   "source": [
    "- Больше всего обзоров на `Twilight`, `The Book Thief`, `Outlander`, `Water for Elephants` и `The Da Vinci Code `\n",
    "- Часть произведений не имеет обзоров"
   ]
  },
  {
   "cell_type": "markdown",
   "id": "a2d6f682",
   "metadata": {},
   "source": [
    "### Топовое издательство"
   ]
  },
  {
   "cell_type": "markdown",
   "id": "df665a15",
   "metadata": {},
   "source": [
    "Найдем издательство, выпустившее больше всех книг без учета брошюр (> 50 страниц)"
   ]
  },
  {
   "cell_type": "code",
   "execution_count": 11,
   "id": "79f2117b",
   "metadata": {},
   "outputs": [
    {
     "data": {
      "text/html": [
       "<div>\n",
       "<style scoped>\n",
       "    .dataframe tbody tr th:only-of-type {\n",
       "        vertical-align: middle;\n",
       "    }\n",
       "\n",
       "    .dataframe tbody tr th {\n",
       "        vertical-align: top;\n",
       "    }\n",
       "\n",
       "    .dataframe thead th {\n",
       "        text-align: right;\n",
       "    }\n",
       "</style>\n",
       "<table border=\"1\" class=\"dataframe\">\n",
       "  <thead>\n",
       "    <tr style=\"text-align: right;\">\n",
       "      <th></th>\n",
       "      <th>publisher</th>\n",
       "      <th>books_cnt</th>\n",
       "    </tr>\n",
       "  </thead>\n",
       "  <tbody>\n",
       "    <tr>\n",
       "      <th>0</th>\n",
       "      <td>Penguin Books</td>\n",
       "      <td>42</td>\n",
       "    </tr>\n",
       "  </tbody>\n",
       "</table>\n",
       "</div>"
      ],
      "text/plain": [
       "       publisher  books_cnt\n",
       "0  Penguin Books  42       "
      ]
     },
     "execution_count": 11,
     "metadata": {},
     "output_type": "execute_result"
    }
   ],
   "source": [
    "query = '''\n",
    "SELECT \n",
    "    p.publisher,\n",
    "    top.books_cnt\n",
    "FROM \n",
    "    publishers AS p\n",
    "    RIGHT JOIN (SELECT \n",
    "                    publisher_id,\n",
    "                    COUNT(book_id) AS books_cnt\n",
    "                FROM books\n",
    "                WHERE num_pages > 50\n",
    "                GROUP BY publisher_id \n",
    "                ORDER BY books_cnt DESC\n",
    "                LIMIT 1) AS top ON top.publisher_id=p.publisher_id\n",
    "    \n",
    "'''\n",
    "\n",
    "pd.io.sql.read_sql(sql=text(query), con = engine)"
   ]
  },
  {
   "cell_type": "markdown",
   "id": "7bd95722",
   "metadata": {},
   "source": [
    "Больше всего книг выпущено `Penguin Books`: 42 книги"
   ]
  },
  {
   "cell_type": "markdown",
   "id": "4233cdac",
   "metadata": {},
   "source": [
    "### Топовый автор"
   ]
  },
  {
   "cell_type": "markdown",
   "id": "7568dee6",
   "metadata": {},
   "source": [
    "Найдем автора с самой высокой средней оценкой книг (возьмем только книги с количеством оценок 50+)"
   ]
  },
  {
   "cell_type": "code",
   "execution_count": 12,
   "id": "1dffc203",
   "metadata": {},
   "outputs": [
    {
     "data": {
      "text/html": [
       "<div>\n",
       "<style scoped>\n",
       "    .dataframe tbody tr th:only-of-type {\n",
       "        vertical-align: middle;\n",
       "    }\n",
       "\n",
       "    .dataframe tbody tr th {\n",
       "        vertical-align: top;\n",
       "    }\n",
       "\n",
       "    .dataframe thead th {\n",
       "        text-align: right;\n",
       "    }\n",
       "</style>\n",
       "<table border=\"1\" class=\"dataframe\">\n",
       "  <thead>\n",
       "    <tr style=\"text-align: right;\">\n",
       "      <th></th>\n",
       "      <th>author</th>\n",
       "      <th>author_avg_rating</th>\n",
       "    </tr>\n",
       "  </thead>\n",
       "  <tbody>\n",
       "    <tr>\n",
       "      <th>0</th>\n",
       "      <td>J.K. Rowling/Mary GrandPré</td>\n",
       "      <td>4.28</td>\n",
       "    </tr>\n",
       "    <tr>\n",
       "      <th>1</th>\n",
       "      <td>J.R.R. Tolkien</td>\n",
       "      <td>4.26</td>\n",
       "    </tr>\n",
       "    <tr>\n",
       "      <th>2</th>\n",
       "      <td>Markus Zusak/Cao Xuân Việt Khương</td>\n",
       "      <td>4.26</td>\n",
       "    </tr>\n",
       "    <tr>\n",
       "      <th>3</th>\n",
       "      <td>Louisa May Alcott</td>\n",
       "      <td>4.19</td>\n",
       "    </tr>\n",
       "    <tr>\n",
       "      <th>4</th>\n",
       "      <td>Rick Riordan</td>\n",
       "      <td>4.08</td>\n",
       "    </tr>\n",
       "    <tr>\n",
       "      <th>5</th>\n",
       "      <td>William Golding</td>\n",
       "      <td>3.90</td>\n",
       "    </tr>\n",
       "    <tr>\n",
       "      <th>6</th>\n",
       "      <td>J.D. Salinger</td>\n",
       "      <td>3.83</td>\n",
       "    </tr>\n",
       "    <tr>\n",
       "      <th>7</th>\n",
       "      <td>Paulo Coelho/Alan R. Clarke/Özdemir İnce</td>\n",
       "      <td>3.79</td>\n",
       "    </tr>\n",
       "    <tr>\n",
       "      <th>8</th>\n",
       "      <td>William Shakespeare/Paul Werstine/Barbara A. Mowat</td>\n",
       "      <td>3.79</td>\n",
       "    </tr>\n",
       "    <tr>\n",
       "      <th>9</th>\n",
       "      <td>Lois Lowry</td>\n",
       "      <td>3.75</td>\n",
       "    </tr>\n",
       "  </tbody>\n",
       "</table>\n",
       "</div>"
      ],
      "text/plain": [
       "                                               author  author_avg_rating\n",
       "0  J.K. Rowling/Mary GrandPré                          4.28             \n",
       "1  J.R.R. Tolkien                                      4.26             \n",
       "2  Markus Zusak/Cao Xuân Việt Khương                   4.26             \n",
       "3  Louisa May Alcott                                   4.19             \n",
       "4  Rick Riordan                                        4.08             \n",
       "5  William Golding                                     3.90             \n",
       "6  J.D. Salinger                                       3.83             \n",
       "7  Paulo Coelho/Alan R. Clarke/Özdemir İnce            3.79             \n",
       "8  William Shakespeare/Paul Werstine/Barbara A. Mowat  3.79             \n",
       "9  Lois Lowry                                          3.75             "
      ]
     },
     "execution_count": 12,
     "metadata": {},
     "output_type": "execute_result"
    }
   ],
   "source": [
    "query = '''\n",
    "\n",
    "SELECT\n",
    "    author,\n",
    "    author_avg_rating\n",
    "FROM \n",
    "    authors AS a\n",
    "    RIGHT JOIN \n",
    "    (SELECT \n",
    "        author_id,\n",
    "        ROUND(AVG(avg_rating), 2) AS author_avg_rating\n",
    "    FROM\n",
    "        books as b \n",
    "        RIGHT JOIN\n",
    "        (SELECT \n",
    "            book_id,\n",
    "            COUNT(username) AS ratings_cnt,\n",
    "            AVG(rating) AS avg_rating\n",
    "        FROM ratings\n",
    "        GROUP BY book_id\n",
    "        HAVING COUNT(username) > 50\n",
    "        ORDER BY avg_rating DESC) AS top ON b.book_id=top.book_id\n",
    "    GROUP BY author_id\n",
    "    ORDER BY author_avg_rating DESC\n",
    "    LIMIT 10) AS top_x_rating ON top_x_rating.author_id=a.author_id\n",
    "   \n",
    "'''\n",
    "\n",
    "pd.io.sql.read_sql(sql=text(query), con = engine)"
   ]
  },
  {
   "cell_type": "markdown",
   "id": "02c1464f",
   "metadata": {},
   "source": [
    "Наиболее оцененные книги у `J.K. Rowling`"
   ]
  },
  {
   "cell_type": "markdown",
   "id": "0059143d",
   "metadata": {},
   "source": [
    "### Продуктивность активных пользователей"
   ]
  },
  {
   "cell_type": "markdown",
   "id": "12ca652c",
   "metadata": {},
   "source": [
    "Найдем среднее количество обзоров от самых активных пользователей (количество оценок 50+)"
   ]
  },
  {
   "cell_type": "code",
   "execution_count": 13,
   "id": "8e57071f",
   "metadata": {},
   "outputs": [
    {
     "data": {
      "text/html": [
       "<div>\n",
       "<style scoped>\n",
       "    .dataframe tbody tr th:only-of-type {\n",
       "        vertical-align: middle;\n",
       "    }\n",
       "\n",
       "    .dataframe tbody tr th {\n",
       "        vertical-align: top;\n",
       "    }\n",
       "\n",
       "    .dataframe thead th {\n",
       "        text-align: right;\n",
       "    }\n",
       "</style>\n",
       "<table border=\"1\" class=\"dataframe\">\n",
       "  <thead>\n",
       "    <tr style=\"text-align: right;\">\n",
       "      <th></th>\n",
       "      <th>avg_review_cnt</th>\n",
       "    </tr>\n",
       "  </thead>\n",
       "  <tbody>\n",
       "    <tr>\n",
       "      <th>0</th>\n",
       "      <td>24.3</td>\n",
       "    </tr>\n",
       "  </tbody>\n",
       "</table>\n",
       "</div>"
      ],
      "text/plain": [
       "   avg_review_cnt\n",
       "0  24.3          "
      ]
     },
     "execution_count": 13,
     "metadata": {},
     "output_type": "execute_result"
    }
   ],
   "source": [
    "query = '''\n",
    "\n",
    "SELECT ROUND(AVG(review_cnt), 1) AS avg_review_cnt\n",
    "FROM\n",
    "    (SELECT\n",
    "        username,\n",
    "        COUNT(review_id) AS review_cnt\n",
    "    FROM reviews\n",
    "    WHERE username IN\n",
    "        (SELECT username\n",
    "        FROM ratings\n",
    "        GROUP BY username\n",
    "        HAVING COUNT(rating_id) > 50)\n",
    "    GROUP BY username) AS top_users\n",
    "   \n",
    "   \n",
    "'''\n",
    "\n",
    "pd.io.sql.read_sql(sql=text(query), con = engine)"
   ]
  },
  {
   "cell_type": "markdown",
   "id": "c162d712",
   "metadata": {},
   "source": [
    "Самые активные пользователи в среднем пишут ~24 обзора"
   ]
  },
  {
   "cell_type": "markdown",
   "id": "3d55d7d7",
   "metadata": {},
   "source": [
    "## **Вывод**"
   ]
  },
  {
   "cell_type": "markdown",
   "id": "3cbf8ced",
   "metadata": {},
   "source": [
    "В ходе проекта изучена база данных книжного стартапа. В базе данных хранится информация о книгах, авторах, издателях, рейтингах и обзорах книг. \n",
    "- В базе данных 1000 книг, из них вышедших после 1 января 2000 года ~ 80 % \n",
    "- Максимальное количество обзоров на книгу 6-7, есть книги без обзоров\n",
    "- Наиболее обозреваемые книги -- не самые рейтинговые, их рейтинг в интервале 3.66-4.26\n",
    "- Самое большое количество книг выпущено издательством `Penguin Books`, на их счету 42 книги\n",
    "- Авторы с самыми высокими рейтингами книг:\n",
    "    - Первое место: `J.K. Rowling`\n",
    "    - Второе место делят: `J.R.R. Tolkien`, `Markus Zusak`\n",
    "    - Третье место: `Louisa May Alcott`\n",
    "- Самые активные пользователи написали, в среднем, по 24 обзора\n",
    "\n",
    "Информация, полученная в ходе исследования, будет использована как основа для формирования ценностного предложения пользователям.\n"
   ]
  }
 ],
 "metadata": {
  "ExecuteTimeLog": [
   {
    "duration": 49,
    "start_time": "2023-04-27T04:48:30.097Z"
   },
   {
    "duration": 511,
    "start_time": "2023-04-27T04:48:33.646Z"
   },
   {
    "duration": 10770,
    "start_time": "2023-04-27T04:48:34.159Z"
   },
   {
    "duration": 247,
    "start_time": "2023-04-27T04:48:44.931Z"
   },
   {
    "duration": 73,
    "start_time": "2023-04-27T04:48:45.180Z"
   },
   {
    "duration": 69,
    "start_time": "2023-04-27T04:48:45.255Z"
   },
   {
    "duration": 69,
    "start_time": "2023-04-27T04:48:45.326Z"
   },
   {
    "duration": 68,
    "start_time": "2023-04-27T04:48:45.397Z"
   },
   {
    "duration": 147,
    "start_time": "2023-04-27T04:48:45.467Z"
   },
   {
    "duration": 68,
    "start_time": "2023-04-27T04:48:45.615Z"
   },
   {
    "duration": 67,
    "start_time": "2023-04-27T04:48:45.685Z"
   },
   {
    "duration": 80,
    "start_time": "2023-04-27T04:48:45.754Z"
   },
   {
    "duration": 81,
    "start_time": "2023-04-27T04:48:45.940Z"
   },
   {
    "duration": 73,
    "start_time": "2023-04-27T04:52:13.786Z"
   },
   {
    "duration": 186,
    "start_time": "2023-04-27T04:52:29.572Z"
   },
   {
    "duration": 72,
    "start_time": "2023-04-27T04:52:33.018Z"
   },
   {
    "duration": 533,
    "start_time": "2023-04-27T04:54:06.250Z"
   },
   {
    "duration": 8730,
    "start_time": "2023-04-27T04:54:06.785Z"
   },
   {
    "duration": 242,
    "start_time": "2023-04-27T04:54:15.517Z"
   },
   {
    "duration": 67,
    "start_time": "2023-04-27T04:54:15.761Z"
   },
   {
    "duration": 67,
    "start_time": "2023-04-27T04:54:15.830Z"
   },
   {
    "duration": 68,
    "start_time": "2023-04-27T04:54:15.899Z"
   },
   {
    "duration": 69,
    "start_time": "2023-04-27T04:54:15.969Z"
   },
   {
    "duration": 143,
    "start_time": "2023-04-27T04:54:16.040Z"
   },
   {
    "duration": 68,
    "start_time": "2023-04-27T04:54:16.184Z"
   },
   {
    "duration": 67,
    "start_time": "2023-04-27T04:54:16.255Z"
   },
   {
    "duration": 78,
    "start_time": "2023-04-27T04:54:16.324Z"
   },
   {
    "duration": 69,
    "start_time": "2023-04-27T04:54:16.404Z"
   },
   {
    "duration": 73,
    "start_time": "2023-04-27T04:54:16.475Z"
   },
   {
    "duration": 70,
    "start_time": "2023-04-27T04:54:16.549Z"
   }
  ],
  "hide_input": false,
  "kernelspec": {
   "display_name": "Python 3 (ipykernel)",
   "language": "python",
   "name": "python3"
  },
  "language_info": {
   "codemirror_mode": {
    "name": "ipython",
    "version": 3
   },
   "file_extension": ".py",
   "mimetype": "text/x-python",
   "name": "python",
   "nbconvert_exporter": "python",
   "pygments_lexer": "ipython3",
   "version": "3.9.15"
  },
  "toc": {
   "base_numbering": 1,
   "nav_menu": {},
   "number_sections": true,
   "sideBar": true,
   "skip_h1_title": true,
   "title_cell": "Table of Contents",
   "title_sidebar": "Contents",
   "toc_cell": false,
   "toc_position": {
    "height": "calc(100% - 180px)",
    "left": "10px",
    "top": "150px",
    "width": "272.594px"
   },
   "toc_section_display": true,
   "toc_window_display": false
  }
 },
 "nbformat": 4,
 "nbformat_minor": 5
}
