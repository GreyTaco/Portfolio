{
 "cells": [
  {
   "cell_type": "markdown",
   "id": "82f15cfe",
   "metadata": {},
   "source": [
    "# Анализ результатов А/В-теста `recommender_system_test`"
   ]
  },
  {
   "cell_type": "markdown",
   "id": "f63e7d21",
   "metadata": {},
   "source": [
    "**Цель проекта** -- изучение результатов А/В-теста по внедрению улучшенной рекомендательной системы\n",
    "\n",
    "**Исходные данные** в формате `csv`: \n",
    "- `final_ab_events` -- действия новых пользователей в период с 7 декабря 2020 по 4 января 2021 года.\n",
    "- `ab_project_marketing_events` -- календарь маркетинговых событий на 2020 год\n",
    "- `final_ab_new_users` -- пользователи, зарегистрировавшиеся с 7 по 21 декабря 2020 года\n",
    "- `final_ab_participants` -- таблица участников тестов\n",
    "\n",
    "**Техническое задание**\n",
    "- `A` -- контрольная группа, `B` -- новая платежная воронка\n",
    "- Дата запуска `2020-12-07`, дата окончания `2021-01-04`\n",
    "- Дата окончания набора новых пользователей `2020-12-21`\n",
    "- В тесте должны участвовать 15 % новых пользователей региона `EU`\n",
    "- Участников всего -- 6000\n",
    "- Прогнозный эффект: улучшение всех метрик не менее чем на 10 % (абсолютный прирост) в течение двухнедельного лайфтайма:\n",
    "    - конверсия в просмотр карточек (`product_page`)\n",
    "    - просмотр корзины (`product_cart`)\n",
    "    - покупки (`purchase`)"
   ]
  },
  {
   "cell_type": "markdown",
   "id": "78811a6a",
   "metadata": {},
   "source": [
    "## План работ"
   ]
  },
  {
   "cell_type": "markdown",
   "id": "d202a381",
   "metadata": {},
   "source": [
    "**Чтение и первичный анализ**\n",
    "\n",
    "**Предобработка**\n",
    "\n",
    "- Изучение и обработка пропусков в данных\n",
    "- Преобразование типов\n",
    "- Обработка неявных / явных дубликатов\n",
    "- Вывод\n",
    "\n",
    "**Проверка на корректность**\n",
    "\n",
    "- Соответствие ТЗ\n",
    "- Совпадение времени проведения теста с другими активностями\n",
    "- Участники тестирования\n",
    "    - каждый тестируемый в одной группе в течение всего теста\n",
    "    - участие только в одном тесте\n",
    "    - равномерность распределения по группам\n",
    "- Вывод\n",
    "\n",
    "**Исследовательский анализ**\n",
    "\n",
    "- Распределение количества событий по пользователям в группах\n",
    "- Распределение количества событий по дням\n",
    "- Воронка конверсии для групп\n",
    "- Вывод\n",
    "\n",
    "**Анализ результатов теста**\n",
    "\n",
    "- Применение z-критерия для оценки разницы долей\n",
    "- Описание результатов\n",
    "- Вывод\n",
    "\n",
    "**Общий вывод**"
   ]
  },
  {
   "cell_type": "markdown",
   "id": "200f7130",
   "metadata": {},
   "source": [
    "## Чтение и первичный анализ"
   ]
  },
  {
   "cell_type": "code",
   "execution_count": 1,
   "id": "60b3c599",
   "metadata": {},
   "outputs": [],
   "source": [
    "# pandas\n",
    "import pandas as pd\n",
    "pd.options.mode.chained_assignment = None  # default='warn'\n",
    "pd.options.display.float_format = '{:,.2f}'.format\n",
    "\n",
    "# visualization\n",
    "import matplotlib.pyplot as plt\n",
    "import seaborn as sns\n",
    "from plotly import graph_objects as go\n",
    "\n",
    "# statistics\n",
    "from scipy import stats as st\n",
    "from statsmodels.stats.proportion import proportions_ztest\n",
    "import statsmodels.stats.api as sms\n",
    "\n",
    "# other\n",
    "from datetime import datetime"
   ]
  },
  {
   "cell_type": "code",
   "execution_count": 2,
   "id": "e04b2595",
   "metadata": {},
   "outputs": [],
   "source": [
    "# reading from local files\n",
    "\n",
    "marketing_ev = pd.read_csv('/Users/ilatti/Documents/practicum/final/3_ab_test/data/ab_project_marketing_events.csv')\n",
    "events = pd.read_csv('/Users/ilatti/Documents/practicum/final/3_ab_test/data/final_ab_events.csv')\n",
    "new_users = pd.read_csv('/Users/ilatti/Documents/practicum/final/3_ab_test/data/final_ab_new_users.csv')\n",
    "participants = pd.read_csv('/Users/ilatti/Documents/practicum/final/3_ab_test/data/final_ab_participants.csv')"
   ]
  },
  {
   "cell_type": "code",
   "execution_count": 3,
   "id": "6004e7d4",
   "metadata": {},
   "outputs": [
    {
     "name": "stdout",
     "output_type": "stream",
     "text": [
      "<class 'pandas.core.frame.DataFrame'>\n",
      "RangeIndex: 14 entries, 0 to 13\n",
      "Data columns (total 4 columns):\n",
      " #   Column     Non-Null Count  Dtype \n",
      "---  ------     --------------  ----- \n",
      " 0   name       14 non-null     object\n",
      " 1   regions    14 non-null     object\n",
      " 2   start_dt   14 non-null     object\n",
      " 3   finish_dt  14 non-null     object\n",
      "dtypes: object(4)\n",
      "memory usage: 576.0+ bytes\n",
      "None\n"
     ]
    },
    {
     "data": {
      "text/html": [
       "<div>\n",
       "<style scoped>\n",
       "    .dataframe tbody tr th:only-of-type {\n",
       "        vertical-align: middle;\n",
       "    }\n",
       "\n",
       "    .dataframe tbody tr th {\n",
       "        vertical-align: top;\n",
       "    }\n",
       "\n",
       "    .dataframe thead th {\n",
       "        text-align: right;\n",
       "    }\n",
       "</style>\n",
       "<table border=\"1\" class=\"dataframe\">\n",
       "  <thead>\n",
       "    <tr style=\"text-align: right;\">\n",
       "      <th></th>\n",
       "      <th>name</th>\n",
       "      <th>regions</th>\n",
       "      <th>start_dt</th>\n",
       "      <th>finish_dt</th>\n",
       "    </tr>\n",
       "  </thead>\n",
       "  <tbody>\n",
       "    <tr>\n",
       "      <th>0</th>\n",
       "      <td>Christmas&amp;New Year Promo</td>\n",
       "      <td>EU, N.America</td>\n",
       "      <td>2020-12-25</td>\n",
       "      <td>2021-01-03</td>\n",
       "    </tr>\n",
       "    <tr>\n",
       "      <th>1</th>\n",
       "      <td>St. Valentine's Day Giveaway</td>\n",
       "      <td>EU, CIS, APAC, N.America</td>\n",
       "      <td>2020-02-14</td>\n",
       "      <td>2020-02-16</td>\n",
       "    </tr>\n",
       "    <tr>\n",
       "      <th>2</th>\n",
       "      <td>St. Patric's Day Promo</td>\n",
       "      <td>EU, N.America</td>\n",
       "      <td>2020-03-17</td>\n",
       "      <td>2020-03-19</td>\n",
       "    </tr>\n",
       "    <tr>\n",
       "      <th>3</th>\n",
       "      <td>Easter Promo</td>\n",
       "      <td>EU, CIS, APAC, N.America</td>\n",
       "      <td>2020-04-12</td>\n",
       "      <td>2020-04-19</td>\n",
       "    </tr>\n",
       "    <tr>\n",
       "      <th>4</th>\n",
       "      <td>4th of July Promo</td>\n",
       "      <td>N.America</td>\n",
       "      <td>2020-07-04</td>\n",
       "      <td>2020-07-11</td>\n",
       "    </tr>\n",
       "    <tr>\n",
       "      <th>5</th>\n",
       "      <td>Black Friday Ads Campaign</td>\n",
       "      <td>EU, CIS, APAC, N.America</td>\n",
       "      <td>2020-11-26</td>\n",
       "      <td>2020-12-01</td>\n",
       "    </tr>\n",
       "    <tr>\n",
       "      <th>6</th>\n",
       "      <td>Chinese New Year Promo</td>\n",
       "      <td>APAC</td>\n",
       "      <td>2020-01-25</td>\n",
       "      <td>2020-02-07</td>\n",
       "    </tr>\n",
       "    <tr>\n",
       "      <th>7</th>\n",
       "      <td>Labor day (May 1st) Ads Campaign</td>\n",
       "      <td>EU, CIS, APAC</td>\n",
       "      <td>2020-05-01</td>\n",
       "      <td>2020-05-03</td>\n",
       "    </tr>\n",
       "    <tr>\n",
       "      <th>8</th>\n",
       "      <td>International Women's Day Promo</td>\n",
       "      <td>EU, CIS, APAC</td>\n",
       "      <td>2020-03-08</td>\n",
       "      <td>2020-03-10</td>\n",
       "    </tr>\n",
       "    <tr>\n",
       "      <th>9</th>\n",
       "      <td>Victory Day CIS (May 9th) Event</td>\n",
       "      <td>CIS</td>\n",
       "      <td>2020-05-09</td>\n",
       "      <td>2020-05-11</td>\n",
       "    </tr>\n",
       "    <tr>\n",
       "      <th>10</th>\n",
       "      <td>CIS New Year Gift Lottery</td>\n",
       "      <td>CIS</td>\n",
       "      <td>2020-12-30</td>\n",
       "      <td>2021-01-07</td>\n",
       "    </tr>\n",
       "    <tr>\n",
       "      <th>11</th>\n",
       "      <td>Dragon Boat Festival Giveaway</td>\n",
       "      <td>APAC</td>\n",
       "      <td>2020-06-25</td>\n",
       "      <td>2020-07-01</td>\n",
       "    </tr>\n",
       "    <tr>\n",
       "      <th>12</th>\n",
       "      <td>Single's Day Gift Promo</td>\n",
       "      <td>APAC</td>\n",
       "      <td>2020-11-11</td>\n",
       "      <td>2020-11-12</td>\n",
       "    </tr>\n",
       "    <tr>\n",
       "      <th>13</th>\n",
       "      <td>Chinese Moon Festival</td>\n",
       "      <td>APAC</td>\n",
       "      <td>2020-10-01</td>\n",
       "      <td>2020-10-07</td>\n",
       "    </tr>\n",
       "  </tbody>\n",
       "</table>\n",
       "</div>"
      ],
      "text/plain": [
       "                                name                   regions    start_dt  \\\n",
       "0           Christmas&New Year Promo             EU, N.America  2020-12-25   \n",
       "1       St. Valentine's Day Giveaway  EU, CIS, APAC, N.America  2020-02-14   \n",
       "2             St. Patric's Day Promo             EU, N.America  2020-03-17   \n",
       "3                       Easter Promo  EU, CIS, APAC, N.America  2020-04-12   \n",
       "4                  4th of July Promo                 N.America  2020-07-04   \n",
       "5          Black Friday Ads Campaign  EU, CIS, APAC, N.America  2020-11-26   \n",
       "6             Chinese New Year Promo                      APAC  2020-01-25   \n",
       "7   Labor day (May 1st) Ads Campaign             EU, CIS, APAC  2020-05-01   \n",
       "8    International Women's Day Promo             EU, CIS, APAC  2020-03-08   \n",
       "9    Victory Day CIS (May 9th) Event                       CIS  2020-05-09   \n",
       "10         CIS New Year Gift Lottery                       CIS  2020-12-30   \n",
       "11     Dragon Boat Festival Giveaway                      APAC  2020-06-25   \n",
       "12           Single's Day Gift Promo                      APAC  2020-11-11   \n",
       "13             Chinese Moon Festival                      APAC  2020-10-01   \n",
       "\n",
       "     finish_dt  \n",
       "0   2021-01-03  \n",
       "1   2020-02-16  \n",
       "2   2020-03-19  \n",
       "3   2020-04-19  \n",
       "4   2020-07-11  \n",
       "5   2020-12-01  \n",
       "6   2020-02-07  \n",
       "7   2020-05-03  \n",
       "8   2020-03-10  \n",
       "9   2020-05-11  \n",
       "10  2021-01-07  \n",
       "11  2020-07-01  \n",
       "12  2020-11-12  \n",
       "13  2020-10-07  "
      ]
     },
     "execution_count": 3,
     "metadata": {},
     "output_type": "execute_result"
    }
   ],
   "source": [
    "print(marketing_ev.info())\n",
    "marketing_ev"
   ]
  },
  {
   "cell_type": "code",
   "execution_count": 4,
   "id": "ba5b59d3",
   "metadata": {},
   "outputs": [
    {
     "name": "stdout",
     "output_type": "stream",
     "text": [
      "<class 'pandas.core.frame.DataFrame'>\n",
      "RangeIndex: 440317 entries, 0 to 440316\n",
      "Data columns (total 4 columns):\n",
      " #   Column      Non-Null Count   Dtype  \n",
      "---  ------      --------------   -----  \n",
      " 0   user_id     440317 non-null  object \n",
      " 1   event_dt    440317 non-null  object \n",
      " 2   event_name  440317 non-null  object \n",
      " 3   details     62740 non-null   float64\n",
      "dtypes: float64(1), object(3)\n",
      "memory usage: 13.4+ MB\n",
      "None\n"
     ]
    },
    {
     "data": {
      "text/html": [
       "<div>\n",
       "<style scoped>\n",
       "    .dataframe tbody tr th:only-of-type {\n",
       "        vertical-align: middle;\n",
       "    }\n",
       "\n",
       "    .dataframe tbody tr th {\n",
       "        vertical-align: top;\n",
       "    }\n",
       "\n",
       "    .dataframe thead th {\n",
       "        text-align: right;\n",
       "    }\n",
       "</style>\n",
       "<table border=\"1\" class=\"dataframe\">\n",
       "  <thead>\n",
       "    <tr style=\"text-align: right;\">\n",
       "      <th></th>\n",
       "      <th>user_id</th>\n",
       "      <th>event_dt</th>\n",
       "      <th>event_name</th>\n",
       "      <th>details</th>\n",
       "    </tr>\n",
       "  </thead>\n",
       "  <tbody>\n",
       "    <tr>\n",
       "      <th>0</th>\n",
       "      <td>E1BDDCE0DAFA2679</td>\n",
       "      <td>2020-12-07 20:22:03</td>\n",
       "      <td>purchase</td>\n",
       "      <td>99.99</td>\n",
       "    </tr>\n",
       "    <tr>\n",
       "      <th>1</th>\n",
       "      <td>7B6452F081F49504</td>\n",
       "      <td>2020-12-07 09:22:53</td>\n",
       "      <td>purchase</td>\n",
       "      <td>9.99</td>\n",
       "    </tr>\n",
       "    <tr>\n",
       "      <th>2</th>\n",
       "      <td>9CD9F34546DF254C</td>\n",
       "      <td>2020-12-07 12:59:29</td>\n",
       "      <td>purchase</td>\n",
       "      <td>4.99</td>\n",
       "    </tr>\n",
       "    <tr>\n",
       "      <th>3</th>\n",
       "      <td>96F27A054B191457</td>\n",
       "      <td>2020-12-07 04:02:40</td>\n",
       "      <td>purchase</td>\n",
       "      <td>4.99</td>\n",
       "    </tr>\n",
       "    <tr>\n",
       "      <th>4</th>\n",
       "      <td>1FD7660FDF94CA1F</td>\n",
       "      <td>2020-12-07 10:15:09</td>\n",
       "      <td>purchase</td>\n",
       "      <td>4.99</td>\n",
       "    </tr>\n",
       "  </tbody>\n",
       "</table>\n",
       "</div>"
      ],
      "text/plain": [
       "            user_id             event_dt event_name  details\n",
       "0  E1BDDCE0DAFA2679  2020-12-07 20:22:03   purchase    99.99\n",
       "1  7B6452F081F49504  2020-12-07 09:22:53   purchase     9.99\n",
       "2  9CD9F34546DF254C  2020-12-07 12:59:29   purchase     4.99\n",
       "3  96F27A054B191457  2020-12-07 04:02:40   purchase     4.99\n",
       "4  1FD7660FDF94CA1F  2020-12-07 10:15:09   purchase     4.99"
      ]
     },
     "execution_count": 4,
     "metadata": {},
     "output_type": "execute_result"
    }
   ],
   "source": [
    "print(events.info())\n",
    "events.head()"
   ]
  },
  {
   "cell_type": "code",
   "execution_count": 5,
   "id": "4c80ad5d",
   "metadata": {},
   "outputs": [
    {
     "name": "stdout",
     "output_type": "stream",
     "text": [
      "<class 'pandas.core.frame.DataFrame'>\n",
      "RangeIndex: 61733 entries, 0 to 61732\n",
      "Data columns (total 4 columns):\n",
      " #   Column      Non-Null Count  Dtype \n",
      "---  ------      --------------  ----- \n",
      " 0   user_id     61733 non-null  object\n",
      " 1   first_date  61733 non-null  object\n",
      " 2   region      61733 non-null  object\n",
      " 3   device      61733 non-null  object\n",
      "dtypes: object(4)\n",
      "memory usage: 1.9+ MB\n",
      "None\n"
     ]
    },
    {
     "data": {
      "text/html": [
       "<div>\n",
       "<style scoped>\n",
       "    .dataframe tbody tr th:only-of-type {\n",
       "        vertical-align: middle;\n",
       "    }\n",
       "\n",
       "    .dataframe tbody tr th {\n",
       "        vertical-align: top;\n",
       "    }\n",
       "\n",
       "    .dataframe thead th {\n",
       "        text-align: right;\n",
       "    }\n",
       "</style>\n",
       "<table border=\"1\" class=\"dataframe\">\n",
       "  <thead>\n",
       "    <tr style=\"text-align: right;\">\n",
       "      <th></th>\n",
       "      <th>user_id</th>\n",
       "      <th>first_date</th>\n",
       "      <th>region</th>\n",
       "      <th>device</th>\n",
       "    </tr>\n",
       "  </thead>\n",
       "  <tbody>\n",
       "    <tr>\n",
       "      <th>0</th>\n",
       "      <td>D72A72121175D8BE</td>\n",
       "      <td>2020-12-07</td>\n",
       "      <td>EU</td>\n",
       "      <td>PC</td>\n",
       "    </tr>\n",
       "    <tr>\n",
       "      <th>1</th>\n",
       "      <td>F1C668619DFE6E65</td>\n",
       "      <td>2020-12-07</td>\n",
       "      <td>N.America</td>\n",
       "      <td>Android</td>\n",
       "    </tr>\n",
       "    <tr>\n",
       "      <th>2</th>\n",
       "      <td>2E1BF1D4C37EA01F</td>\n",
       "      <td>2020-12-07</td>\n",
       "      <td>EU</td>\n",
       "      <td>PC</td>\n",
       "    </tr>\n",
       "    <tr>\n",
       "      <th>3</th>\n",
       "      <td>50734A22C0C63768</td>\n",
       "      <td>2020-12-07</td>\n",
       "      <td>EU</td>\n",
       "      <td>iPhone</td>\n",
       "    </tr>\n",
       "    <tr>\n",
       "      <th>4</th>\n",
       "      <td>E1BDDCE0DAFA2679</td>\n",
       "      <td>2020-12-07</td>\n",
       "      <td>N.America</td>\n",
       "      <td>iPhone</td>\n",
       "    </tr>\n",
       "  </tbody>\n",
       "</table>\n",
       "</div>"
      ],
      "text/plain": [
       "            user_id  first_date     region   device\n",
       "0  D72A72121175D8BE  2020-12-07         EU       PC\n",
       "1  F1C668619DFE6E65  2020-12-07  N.America  Android\n",
       "2  2E1BF1D4C37EA01F  2020-12-07         EU       PC\n",
       "3  50734A22C0C63768  2020-12-07         EU   iPhone\n",
       "4  E1BDDCE0DAFA2679  2020-12-07  N.America   iPhone"
      ]
     },
     "execution_count": 5,
     "metadata": {},
     "output_type": "execute_result"
    }
   ],
   "source": [
    "print(new_users.info())\n",
    "new_users.head()"
   ]
  },
  {
   "cell_type": "code",
   "execution_count": 6,
   "id": "04e361d6",
   "metadata": {},
   "outputs": [
    {
     "name": "stdout",
     "output_type": "stream",
     "text": [
      "<class 'pandas.core.frame.DataFrame'>\n",
      "RangeIndex: 18268 entries, 0 to 18267\n",
      "Data columns (total 3 columns):\n",
      " #   Column   Non-Null Count  Dtype \n",
      "---  ------   --------------  ----- \n",
      " 0   user_id  18268 non-null  object\n",
      " 1   group    18268 non-null  object\n",
      " 2   ab_test  18268 non-null  object\n",
      "dtypes: object(3)\n",
      "memory usage: 428.3+ KB\n",
      "None\n"
     ]
    },
    {
     "data": {
      "text/html": [
       "<div>\n",
       "<style scoped>\n",
       "    .dataframe tbody tr th:only-of-type {\n",
       "        vertical-align: middle;\n",
       "    }\n",
       "\n",
       "    .dataframe tbody tr th {\n",
       "        vertical-align: top;\n",
       "    }\n",
       "\n",
       "    .dataframe thead th {\n",
       "        text-align: right;\n",
       "    }\n",
       "</style>\n",
       "<table border=\"1\" class=\"dataframe\">\n",
       "  <thead>\n",
       "    <tr style=\"text-align: right;\">\n",
       "      <th></th>\n",
       "      <th>user_id</th>\n",
       "      <th>group</th>\n",
       "      <th>ab_test</th>\n",
       "    </tr>\n",
       "  </thead>\n",
       "  <tbody>\n",
       "    <tr>\n",
       "      <th>0</th>\n",
       "      <td>D1ABA3E2887B6A73</td>\n",
       "      <td>A</td>\n",
       "      <td>recommender_system_test</td>\n",
       "    </tr>\n",
       "    <tr>\n",
       "      <th>1</th>\n",
       "      <td>A7A3664BD6242119</td>\n",
       "      <td>A</td>\n",
       "      <td>recommender_system_test</td>\n",
       "    </tr>\n",
       "    <tr>\n",
       "      <th>2</th>\n",
       "      <td>DABC14FDDFADD29E</td>\n",
       "      <td>A</td>\n",
       "      <td>recommender_system_test</td>\n",
       "    </tr>\n",
       "    <tr>\n",
       "      <th>3</th>\n",
       "      <td>04988C5DF189632E</td>\n",
       "      <td>A</td>\n",
       "      <td>recommender_system_test</td>\n",
       "    </tr>\n",
       "    <tr>\n",
       "      <th>4</th>\n",
       "      <td>482F14783456D21B</td>\n",
       "      <td>B</td>\n",
       "      <td>recommender_system_test</td>\n",
       "    </tr>\n",
       "  </tbody>\n",
       "</table>\n",
       "</div>"
      ],
      "text/plain": [
       "            user_id group                  ab_test\n",
       "0  D1ABA3E2887B6A73     A  recommender_system_test\n",
       "1  A7A3664BD6242119     A  recommender_system_test\n",
       "2  DABC14FDDFADD29E     A  recommender_system_test\n",
       "3  04988C5DF189632E     A  recommender_system_test\n",
       "4  482F14783456D21B     B  recommender_system_test"
      ]
     },
     "execution_count": 6,
     "metadata": {},
     "output_type": "execute_result"
    }
   ],
   "source": [
    "print(participants.info())\n",
    "participants.head()"
   ]
  },
  {
   "cell_type": "code",
   "execution_count": 7,
   "id": "49b0b2de",
   "metadata": {},
   "outputs": [
    {
     "data": {
      "text/plain": [
       "array(['recommender_system_test', 'interface_eu_test'], dtype=object)"
      ]
     },
     "execution_count": 7,
     "metadata": {},
     "output_type": "execute_result"
    }
   ],
   "source": [
    "participants.ab_test.unique()"
   ]
  },
  {
   "cell_type": "markdown",
   "id": "aad6db7b",
   "metadata": {},
   "source": [
    "- Все поля с датой в виде текста -- следует перевести в `datetime`\n",
    "- В самом большом файле свыше 400 тысяч строк\n",
    "- Пропуски есть только в файле с событиями в колонке деталей -- это нормально, т.к. не все события покупки, но стоит проверить нет ли лишних\n",
    "- Кроме рассматриваемого теста в датасете есть `interface_eu_test`"
   ]
  },
  {
   "cell_type": "markdown",
   "id": "11966359",
   "metadata": {},
   "source": [
    "## Предобработка"
   ]
  },
  {
   "cell_type": "markdown",
   "id": "d10be4c6",
   "metadata": {},
   "source": [
    "### Пропуски"
   ]
  },
  {
   "cell_type": "markdown",
   "id": "000bbf18",
   "metadata": {},
   "source": [
    "Изучим пропуски в `events`"
   ]
  },
  {
   "cell_type": "code",
   "execution_count": 8,
   "id": "402ca722",
   "metadata": {},
   "outputs": [
    {
     "data": {
      "text/plain": [
       "array(['product_cart', 'product_page', 'login'], dtype=object)"
      ]
     },
     "execution_count": 8,
     "metadata": {},
     "output_type": "execute_result"
    }
   ],
   "source": [
    "events[events.details.isna()].event_name.unique()"
   ]
  },
  {
   "cell_type": "code",
   "execution_count": 9,
   "id": "3ff4d167",
   "metadata": {},
   "outputs": [
    {
     "data": {
      "text/plain": [
       "array(['purchase'], dtype=object)"
      ]
     },
     "execution_count": 9,
     "metadata": {},
     "output_type": "execute_result"
    }
   ],
   "source": [
    "events[events.details.isna() == False].event_name.unique()"
   ]
  },
  {
   "cell_type": "markdown",
   "id": "16c1e079",
   "metadata": {},
   "source": [
    "Пропуски соответствуют описанию данных -- колонка `details` не заполнена только для событий `product_cart` `product_page` `login`, а для всех `purchase` заполнена. Оставляем как есть"
   ]
  },
  {
   "cell_type": "markdown",
   "id": "e82bfe3f",
   "metadata": {},
   "source": [
    "### Преобразование типов"
   ]
  },
  {
   "cell_type": "markdown",
   "id": "a947a5b9",
   "metadata": {},
   "source": [
    "- Кроме даты, все типы данных столбцов соответствуют содержимому\n",
    "- Приведем дату к типу `datetime`"
   ]
  },
  {
   "cell_type": "code",
   "execution_count": 10,
   "id": "db0066bf",
   "metadata": {},
   "outputs": [
    {
     "name": "stdout",
     "output_type": "stream",
     "text": [
      "<class 'pandas.core.frame.DataFrame'>\n",
      "RangeIndex: 440317 entries, 0 to 440316\n",
      "Data columns (total 4 columns):\n",
      " #   Column      Non-Null Count   Dtype         \n",
      "---  ------      --------------   -----         \n",
      " 0   user_id     440317 non-null  object        \n",
      " 1   event_dt    440317 non-null  datetime64[ns]\n",
      " 2   event_name  440317 non-null  object        \n",
      " 3   details     62740 non-null   float64       \n",
      "dtypes: datetime64[ns](1), float64(1), object(2)\n",
      "memory usage: 13.4+ MB\n",
      "None\n"
     ]
    },
    {
     "data": {
      "text/html": [
       "<div>\n",
       "<style scoped>\n",
       "    .dataframe tbody tr th:only-of-type {\n",
       "        vertical-align: middle;\n",
       "    }\n",
       "\n",
       "    .dataframe tbody tr th {\n",
       "        vertical-align: top;\n",
       "    }\n",
       "\n",
       "    .dataframe thead th {\n",
       "        text-align: right;\n",
       "    }\n",
       "</style>\n",
       "<table border=\"1\" class=\"dataframe\">\n",
       "  <thead>\n",
       "    <tr style=\"text-align: right;\">\n",
       "      <th></th>\n",
       "      <th>user_id</th>\n",
       "      <th>event_dt</th>\n",
       "      <th>event_name</th>\n",
       "      <th>details</th>\n",
       "    </tr>\n",
       "  </thead>\n",
       "  <tbody>\n",
       "    <tr>\n",
       "      <th>0</th>\n",
       "      <td>E1BDDCE0DAFA2679</td>\n",
       "      <td>2020-12-07 20:22:03</td>\n",
       "      <td>purchase</td>\n",
       "      <td>99.99</td>\n",
       "    </tr>\n",
       "    <tr>\n",
       "      <th>1</th>\n",
       "      <td>7B6452F081F49504</td>\n",
       "      <td>2020-12-07 09:22:53</td>\n",
       "      <td>purchase</td>\n",
       "      <td>9.99</td>\n",
       "    </tr>\n",
       "    <tr>\n",
       "      <th>2</th>\n",
       "      <td>9CD9F34546DF254C</td>\n",
       "      <td>2020-12-07 12:59:29</td>\n",
       "      <td>purchase</td>\n",
       "      <td>4.99</td>\n",
       "    </tr>\n",
       "    <tr>\n",
       "      <th>3</th>\n",
       "      <td>96F27A054B191457</td>\n",
       "      <td>2020-12-07 04:02:40</td>\n",
       "      <td>purchase</td>\n",
       "      <td>4.99</td>\n",
       "    </tr>\n",
       "    <tr>\n",
       "      <th>4</th>\n",
       "      <td>1FD7660FDF94CA1F</td>\n",
       "      <td>2020-12-07 10:15:09</td>\n",
       "      <td>purchase</td>\n",
       "      <td>4.99</td>\n",
       "    </tr>\n",
       "  </tbody>\n",
       "</table>\n",
       "</div>"
      ],
      "text/plain": [
       "            user_id            event_dt event_name  details\n",
       "0  E1BDDCE0DAFA2679 2020-12-07 20:22:03   purchase    99.99\n",
       "1  7B6452F081F49504 2020-12-07 09:22:53   purchase     9.99\n",
       "2  9CD9F34546DF254C 2020-12-07 12:59:29   purchase     4.99\n",
       "3  96F27A054B191457 2020-12-07 04:02:40   purchase     4.99\n",
       "4  1FD7660FDF94CA1F 2020-12-07 10:15:09   purchase     4.99"
      ]
     },
     "execution_count": 10,
     "metadata": {},
     "output_type": "execute_result"
    }
   ],
   "source": [
    "events.event_dt = pd.to_datetime(events.event_dt)\n",
    "\n",
    "print(events.info())\n",
    "events.head()"
   ]
  },
  {
   "cell_type": "code",
   "execution_count": 11,
   "id": "49056501",
   "metadata": {},
   "outputs": [
    {
     "name": "stdout",
     "output_type": "stream",
     "text": [
      "<class 'pandas.core.frame.DataFrame'>\n",
      "RangeIndex: 14 entries, 0 to 13\n",
      "Data columns (total 4 columns):\n",
      " #   Column     Non-Null Count  Dtype         \n",
      "---  ------     --------------  -----         \n",
      " 0   name       14 non-null     object        \n",
      " 1   regions    14 non-null     object        \n",
      " 2   start_dt   14 non-null     datetime64[ns]\n",
      " 3   finish_dt  14 non-null     datetime64[ns]\n",
      "dtypes: datetime64[ns](2), object(2)\n",
      "memory usage: 576.0+ bytes\n",
      "None\n"
     ]
    },
    {
     "data": {
      "text/html": [
       "<div>\n",
       "<style scoped>\n",
       "    .dataframe tbody tr th:only-of-type {\n",
       "        vertical-align: middle;\n",
       "    }\n",
       "\n",
       "    .dataframe tbody tr th {\n",
       "        vertical-align: top;\n",
       "    }\n",
       "\n",
       "    .dataframe thead th {\n",
       "        text-align: right;\n",
       "    }\n",
       "</style>\n",
       "<table border=\"1\" class=\"dataframe\">\n",
       "  <thead>\n",
       "    <tr style=\"text-align: right;\">\n",
       "      <th></th>\n",
       "      <th>name</th>\n",
       "      <th>regions</th>\n",
       "      <th>start_dt</th>\n",
       "      <th>finish_dt</th>\n",
       "    </tr>\n",
       "  </thead>\n",
       "  <tbody>\n",
       "    <tr>\n",
       "      <th>0</th>\n",
       "      <td>Christmas&amp;New Year Promo</td>\n",
       "      <td>EU, N.America</td>\n",
       "      <td>2020-12-25</td>\n",
       "      <td>2021-01-03</td>\n",
       "    </tr>\n",
       "    <tr>\n",
       "      <th>1</th>\n",
       "      <td>St. Valentine's Day Giveaway</td>\n",
       "      <td>EU, CIS, APAC, N.America</td>\n",
       "      <td>2020-02-14</td>\n",
       "      <td>2020-02-16</td>\n",
       "    </tr>\n",
       "    <tr>\n",
       "      <th>2</th>\n",
       "      <td>St. Patric's Day Promo</td>\n",
       "      <td>EU, N.America</td>\n",
       "      <td>2020-03-17</td>\n",
       "      <td>2020-03-19</td>\n",
       "    </tr>\n",
       "    <tr>\n",
       "      <th>3</th>\n",
       "      <td>Easter Promo</td>\n",
       "      <td>EU, CIS, APAC, N.America</td>\n",
       "      <td>2020-04-12</td>\n",
       "      <td>2020-04-19</td>\n",
       "    </tr>\n",
       "    <tr>\n",
       "      <th>4</th>\n",
       "      <td>4th of July Promo</td>\n",
       "      <td>N.America</td>\n",
       "      <td>2020-07-04</td>\n",
       "      <td>2020-07-11</td>\n",
       "    </tr>\n",
       "  </tbody>\n",
       "</table>\n",
       "</div>"
      ],
      "text/plain": [
       "                           name                   regions   start_dt  \\\n",
       "0      Christmas&New Year Promo             EU, N.America 2020-12-25   \n",
       "1  St. Valentine's Day Giveaway  EU, CIS, APAC, N.America 2020-02-14   \n",
       "2        St. Patric's Day Promo             EU, N.America 2020-03-17   \n",
       "3                  Easter Promo  EU, CIS, APAC, N.America 2020-04-12   \n",
       "4             4th of July Promo                 N.America 2020-07-04   \n",
       "\n",
       "   finish_dt  \n",
       "0 2021-01-03  \n",
       "1 2020-02-16  \n",
       "2 2020-03-19  \n",
       "3 2020-04-19  \n",
       "4 2020-07-11  "
      ]
     },
     "execution_count": 11,
     "metadata": {},
     "output_type": "execute_result"
    }
   ],
   "source": [
    "marketing_ev.start_dt = pd.to_datetime(marketing_ev.start_dt)\n",
    "marketing_ev.finish_dt = pd.to_datetime(marketing_ev.finish_dt)\n",
    "\n",
    "print(marketing_ev.info())\n",
    "marketing_ev.head()"
   ]
  },
  {
   "cell_type": "code",
   "execution_count": 12,
   "id": "e814e7fb",
   "metadata": {},
   "outputs": [
    {
     "name": "stdout",
     "output_type": "stream",
     "text": [
      "<class 'pandas.core.frame.DataFrame'>\n",
      "RangeIndex: 61733 entries, 0 to 61732\n",
      "Data columns (total 4 columns):\n",
      " #   Column      Non-Null Count  Dtype         \n",
      "---  ------      --------------  -----         \n",
      " 0   user_id     61733 non-null  object        \n",
      " 1   first_date  61733 non-null  datetime64[ns]\n",
      " 2   region      61733 non-null  object        \n",
      " 3   device      61733 non-null  object        \n",
      "dtypes: datetime64[ns](1), object(3)\n",
      "memory usage: 1.9+ MB\n",
      "None\n"
     ]
    },
    {
     "data": {
      "text/html": [
       "<div>\n",
       "<style scoped>\n",
       "    .dataframe tbody tr th:only-of-type {\n",
       "        vertical-align: middle;\n",
       "    }\n",
       "\n",
       "    .dataframe tbody tr th {\n",
       "        vertical-align: top;\n",
       "    }\n",
       "\n",
       "    .dataframe thead th {\n",
       "        text-align: right;\n",
       "    }\n",
       "</style>\n",
       "<table border=\"1\" class=\"dataframe\">\n",
       "  <thead>\n",
       "    <tr style=\"text-align: right;\">\n",
       "      <th></th>\n",
       "      <th>user_id</th>\n",
       "      <th>first_date</th>\n",
       "      <th>region</th>\n",
       "      <th>device</th>\n",
       "    </tr>\n",
       "  </thead>\n",
       "  <tbody>\n",
       "    <tr>\n",
       "      <th>0</th>\n",
       "      <td>D72A72121175D8BE</td>\n",
       "      <td>2020-12-07</td>\n",
       "      <td>EU</td>\n",
       "      <td>PC</td>\n",
       "    </tr>\n",
       "    <tr>\n",
       "      <th>1</th>\n",
       "      <td>F1C668619DFE6E65</td>\n",
       "      <td>2020-12-07</td>\n",
       "      <td>N.America</td>\n",
       "      <td>Android</td>\n",
       "    </tr>\n",
       "    <tr>\n",
       "      <th>2</th>\n",
       "      <td>2E1BF1D4C37EA01F</td>\n",
       "      <td>2020-12-07</td>\n",
       "      <td>EU</td>\n",
       "      <td>PC</td>\n",
       "    </tr>\n",
       "    <tr>\n",
       "      <th>3</th>\n",
       "      <td>50734A22C0C63768</td>\n",
       "      <td>2020-12-07</td>\n",
       "      <td>EU</td>\n",
       "      <td>iPhone</td>\n",
       "    </tr>\n",
       "    <tr>\n",
       "      <th>4</th>\n",
       "      <td>E1BDDCE0DAFA2679</td>\n",
       "      <td>2020-12-07</td>\n",
       "      <td>N.America</td>\n",
       "      <td>iPhone</td>\n",
       "    </tr>\n",
       "  </tbody>\n",
       "</table>\n",
       "</div>"
      ],
      "text/plain": [
       "            user_id first_date     region   device\n",
       "0  D72A72121175D8BE 2020-12-07         EU       PC\n",
       "1  F1C668619DFE6E65 2020-12-07  N.America  Android\n",
       "2  2E1BF1D4C37EA01F 2020-12-07         EU       PC\n",
       "3  50734A22C0C63768 2020-12-07         EU   iPhone\n",
       "4  E1BDDCE0DAFA2679 2020-12-07  N.America   iPhone"
      ]
     },
     "execution_count": 12,
     "metadata": {},
     "output_type": "execute_result"
    }
   ],
   "source": [
    "new_users.first_date = pd.to_datetime(new_users.first_date)\n",
    "\n",
    "print(new_users.info())\n",
    "new_users.head()"
   ]
  },
  {
   "cell_type": "markdown",
   "id": "8d241472",
   "metadata": {},
   "source": [
    "Преобразование успешно"
   ]
  },
  {
   "cell_type": "markdown",
   "id": "5a31234f",
   "metadata": {},
   "source": [
    "### Обработка дубликатов"
   ]
  },
  {
   "cell_type": "markdown",
   "id": "b322e7e3",
   "metadata": {},
   "source": [
    "Проверим наличие неявных дубликатов в регионах и устройствах в `new_users`:"
   ]
  },
  {
   "cell_type": "code",
   "execution_count": 13,
   "id": "de0b2de1",
   "metadata": {},
   "outputs": [
    {
     "name": "stdout",
     "output_type": "stream",
     "text": [
      "['EU' 'N.America' 'APAC' 'CIS']\n"
     ]
    },
    {
     "data": {
      "text/plain": [
       "array(['PC', 'Android', 'iPhone', 'Mac'], dtype=object)"
      ]
     },
     "execution_count": 13,
     "metadata": {},
     "output_type": "execute_result"
    }
   ],
   "source": [
    "print(new_users.region.unique())\n",
    "new_users.device.unique()"
   ]
  },
  {
   "cell_type": "markdown",
   "id": "50233896",
   "metadata": {},
   "source": [
    "Дубликатов нет"
   ]
  },
  {
   "cell_type": "markdown",
   "id": "a60e1f06",
   "metadata": {},
   "source": [
    "Проверим названия групп в `participants`:"
   ]
  },
  {
   "cell_type": "code",
   "execution_count": 14,
   "id": "2a3b4a1e",
   "metadata": {},
   "outputs": [
    {
     "data": {
      "text/plain": [
       "array(['A', 'B'], dtype=object)"
      ]
     },
     "execution_count": 14,
     "metadata": {},
     "output_type": "execute_result"
    }
   ],
   "source": [
    "participants.group.unique()"
   ]
  },
  {
   "cell_type": "markdown",
   "id": "955f8542",
   "metadata": {},
   "source": [
    "Дубликатов нет"
   ]
  },
  {
   "cell_type": "markdown",
   "id": "6b763200",
   "metadata": {},
   "source": [
    "Проверим неявные дубликаты в `events` для всех столбцов за вычетом `user_id`"
   ]
  },
  {
   "cell_type": "code",
   "execution_count": 15,
   "id": "0cb8b2cb",
   "metadata": {},
   "outputs": [
    {
     "data": {
      "text/plain": [
       "15416"
      ]
     },
     "execution_count": 15,
     "metadata": {},
     "output_type": "execute_result"
    }
   ],
   "source": [
    "events.duplicated(subset=['event_dt', 'event_name', 'details']).sum()"
   ]
  },
  {
   "cell_type": "markdown",
   "id": "9bd0fe5c",
   "metadata": {},
   "source": [
    "- Существует вероятность, что в одну секунду два (или больше) пользователя совершили одно и тоже действие\n",
    "- Даже если это покупка, сумма покупки тоже может совпасть, в особенности для наших данных -- сумм покупки всего четыре вида:"
   ]
  },
  {
   "cell_type": "code",
   "execution_count": 16,
   "id": "72b5e6d2",
   "metadata": {},
   "outputs": [
    {
     "data": {
      "text/plain": [
       "details\n",
       "4.99      46362\n",
       "9.99       9530\n",
       "99.99      5631\n",
       "499.99     1217\n",
       "Name: details, dtype: int64"
      ]
     },
     "execution_count": 16,
     "metadata": {},
     "output_type": "execute_result"
    }
   ],
   "source": [
    "events.groupby('details')['details'].count()"
   ]
  },
  {
   "cell_type": "markdown",
   "id": "ad2c4ffc",
   "metadata": {},
   "source": [
    "Проверим, не являются ли эти совпадения полными дубликатами:"
   ]
  },
  {
   "cell_type": "code",
   "execution_count": 17,
   "id": "80b8133a",
   "metadata": {},
   "outputs": [
    {
     "data": {
      "text/plain": [
       "0"
      ]
     },
     "execution_count": 17,
     "metadata": {},
     "output_type": "execute_result"
    }
   ],
   "source": [
    "events.duplicated().sum()"
   ]
  },
  {
   "cell_type": "markdown",
   "id": "404f0261",
   "metadata": {},
   "source": [
    "Также проверим полные дубликаты в `new_users` и `participants`:"
   ]
  },
  {
   "cell_type": "code",
   "execution_count": 18,
   "id": "0fe281b5",
   "metadata": {},
   "outputs": [
    {
     "name": "stdout",
     "output_type": "stream",
     "text": [
      "0\n",
      "0\n"
     ]
    }
   ],
   "source": [
    "print(new_users.duplicated().sum())\n",
    "print(participants.duplicated().sum())"
   ]
  },
  {
   "cell_type": "markdown",
   "id": "b0a30621",
   "metadata": {},
   "source": [
    "Дублируются ли `user_id` в `new_users` и `participants`?"
   ]
  },
  {
   "cell_type": "code",
   "execution_count": 19,
   "id": "6c3091fa",
   "metadata": {},
   "outputs": [
    {
     "name": "stdout",
     "output_type": "stream",
     "text": [
      "0\n",
      "1602\n"
     ]
    }
   ],
   "source": [
    "print(new_users.duplicated(subset='user_id').sum())\n",
    "print(participants.duplicated(subset='user_id').sum())"
   ]
  },
  {
   "cell_type": "markdown",
   "id": "a3ee1bf8",
   "metadata": {},
   "source": [
    "Скорее всего дубли `user_id` в `participants` связаны с участием одних и тех же пользователей в разных тестах; проверим"
   ]
  },
  {
   "cell_type": "code",
   "execution_count": 20,
   "id": "df609c05",
   "metadata": {},
   "outputs": [
    {
     "data": {
      "text/html": [
       "<div>\n",
       "<style scoped>\n",
       "    .dataframe tbody tr th:only-of-type {\n",
       "        vertical-align: middle;\n",
       "    }\n",
       "\n",
       "    .dataframe tbody tr th {\n",
       "        vertical-align: top;\n",
       "    }\n",
       "\n",
       "    .dataframe thead th {\n",
       "        text-align: right;\n",
       "    }\n",
       "</style>\n",
       "<table border=\"1\" class=\"dataframe\">\n",
       "  <thead>\n",
       "    <tr style=\"text-align: right;\">\n",
       "      <th></th>\n",
       "      <th>user_id</th>\n",
       "      <th>group</th>\n",
       "      <th>ab_test</th>\n",
       "    </tr>\n",
       "  </thead>\n",
       "  <tbody>\n",
       "    <tr>\n",
       "      <th>17892</th>\n",
       "      <td>001064FEAAB631A1</td>\n",
       "      <td>B</td>\n",
       "      <td>interface_eu_test</td>\n",
       "    </tr>\n",
       "    <tr>\n",
       "      <th>235</th>\n",
       "      <td>001064FEAAB631A1</td>\n",
       "      <td>B</td>\n",
       "      <td>recommender_system_test</td>\n",
       "    </tr>\n",
       "    <tr>\n",
       "      <th>16961</th>\n",
       "      <td>00341D8401F0F665</td>\n",
       "      <td>A</td>\n",
       "      <td>interface_eu_test</td>\n",
       "    </tr>\n",
       "    <tr>\n",
       "      <th>2137</th>\n",
       "      <td>00341D8401F0F665</td>\n",
       "      <td>A</td>\n",
       "      <td>recommender_system_test</td>\n",
       "    </tr>\n",
       "    <tr>\n",
       "      <th>8143</th>\n",
       "      <td>003B6786B4FF5B03</td>\n",
       "      <td>A</td>\n",
       "      <td>interface_eu_test</td>\n",
       "    </tr>\n",
       "    <tr>\n",
       "      <th>3156</th>\n",
       "      <td>003B6786B4FF5B03</td>\n",
       "      <td>A</td>\n",
       "      <td>recommender_system_test</td>\n",
       "    </tr>\n",
       "    <tr>\n",
       "      <th>4768</th>\n",
       "      <td>0082295A41A867B5</td>\n",
       "      <td>A</td>\n",
       "      <td>recommender_system_test</td>\n",
       "    </tr>\n",
       "    <tr>\n",
       "      <th>14161</th>\n",
       "      <td>0082295A41A867B5</td>\n",
       "      <td>B</td>\n",
       "      <td>interface_eu_test</td>\n",
       "    </tr>\n",
       "    <tr>\n",
       "      <th>15562</th>\n",
       "      <td>00E68F103C66C1F7</td>\n",
       "      <td>B</td>\n",
       "      <td>interface_eu_test</td>\n",
       "    </tr>\n",
       "    <tr>\n",
       "      <th>4074</th>\n",
       "      <td>00E68F103C66C1F7</td>\n",
       "      <td>A</td>\n",
       "      <td>recommender_system_test</td>\n",
       "    </tr>\n",
       "  </tbody>\n",
       "</table>\n",
       "</div>"
      ],
      "text/plain": [
       "                user_id group                  ab_test\n",
       "17892  001064FEAAB631A1     B        interface_eu_test\n",
       "235    001064FEAAB631A1     B  recommender_system_test\n",
       "16961  00341D8401F0F665     A        interface_eu_test\n",
       "2137   00341D8401F0F665     A  recommender_system_test\n",
       "8143   003B6786B4FF5B03     A        interface_eu_test\n",
       "3156   003B6786B4FF5B03     A  recommender_system_test\n",
       "4768   0082295A41A867B5     A  recommender_system_test\n",
       "14161  0082295A41A867B5     B        interface_eu_test\n",
       "15562  00E68F103C66C1F7     B        interface_eu_test\n",
       "4074   00E68F103C66C1F7     A  recommender_system_test"
      ]
     },
     "execution_count": 20,
     "metadata": {},
     "output_type": "execute_result"
    }
   ],
   "source": [
    "duplicates_all = participants[participants.duplicated(subset='user_id')]['user_id']\n",
    "\n",
    "participants.query('user_id.isin(@duplicates_all)').sort_values(by='user_id').head(10)"
   ]
  },
  {
   "cell_type": "markdown",
   "id": "cc9526a6",
   "metadata": {},
   "source": [
    "- Гипотеза подтвердилась\n",
    "- Скорее всего, группа А конкурирующего теста -- контрольная, т.е. для пользователей не было изменений в продукте\n",
    "- Если пользователь из группы А конкурирующего теста оказался в любой группе рассматриваемого теста -- это допустимо\n",
    "- Недопустимо, если пользователь из группы В конкурирующего теста оказался в любой группе рассматриваемого теста\n",
    "- Удалим пользователей из группы В конкурирующего теста"
   ]
  },
  {
   "cell_type": "code",
   "execution_count": 21,
   "id": "eba3c6db",
   "metadata": {},
   "outputs": [],
   "source": [
    "participants_init = participants.copy() # backup\n",
    "new_users_init = new_users.copy()\n",
    "events_init = events.copy()\n",
    "\n",
    "duplicates = (participants\n",
    "              .query('user_id.isin(@duplicates_all) and ab_test == \"interface_eu_test\" and group == \"B\"')['user_id'])\n",
    "\n",
    "\n",
    "participants = participants[~participants.user_id.isin(duplicates)]\n",
    "new_users = new_users[~new_users.user_id.isin(duplicates)]\n",
    "events = events[~events.user_id.isin(duplicates)]"
   ]
  },
  {
   "cell_type": "code",
   "execution_count": 22,
   "id": "7c3592ee",
   "metadata": {},
   "outputs": [
    {
     "data": {
      "text/html": [
       "<div>\n",
       "<style scoped>\n",
       "    .dataframe tbody tr th:only-of-type {\n",
       "        vertical-align: middle;\n",
       "    }\n",
       "\n",
       "    .dataframe tbody tr th {\n",
       "        vertical-align: top;\n",
       "    }\n",
       "\n",
       "    .dataframe thead th {\n",
       "        text-align: right;\n",
       "    }\n",
       "</style>\n",
       "<table border=\"1\" class=\"dataframe\">\n",
       "  <thead>\n",
       "    <tr style=\"text-align: right;\">\n",
       "      <th></th>\n",
       "      <th>user_id</th>\n",
       "      <th>group</th>\n",
       "      <th>ab_test</th>\n",
       "    </tr>\n",
       "  </thead>\n",
       "  <tbody>\n",
       "    <tr>\n",
       "      <th>16961</th>\n",
       "      <td>00341D8401F0F665</td>\n",
       "      <td>A</td>\n",
       "      <td>interface_eu_test</td>\n",
       "    </tr>\n",
       "    <tr>\n",
       "      <th>2137</th>\n",
       "      <td>00341D8401F0F665</td>\n",
       "      <td>A</td>\n",
       "      <td>recommender_system_test</td>\n",
       "    </tr>\n",
       "    <tr>\n",
       "      <th>3156</th>\n",
       "      <td>003B6786B4FF5B03</td>\n",
       "      <td>A</td>\n",
       "      <td>recommender_system_test</td>\n",
       "    </tr>\n",
       "    <tr>\n",
       "      <th>8143</th>\n",
       "      <td>003B6786B4FF5B03</td>\n",
       "      <td>A</td>\n",
       "      <td>interface_eu_test</td>\n",
       "    </tr>\n",
       "    <tr>\n",
       "      <th>13517</th>\n",
       "      <td>00EFA157F7B6E1C4</td>\n",
       "      <td>A</td>\n",
       "      <td>interface_eu_test</td>\n",
       "    </tr>\n",
       "    <tr>\n",
       "      <th>2541</th>\n",
       "      <td>00EFA157F7B6E1C4</td>\n",
       "      <td>A</td>\n",
       "      <td>recommender_system_test</td>\n",
       "    </tr>\n",
       "    <tr>\n",
       "      <th>5800</th>\n",
       "      <td>0151DAF505060E94</td>\n",
       "      <td>A</td>\n",
       "      <td>recommender_system_test</td>\n",
       "    </tr>\n",
       "    <tr>\n",
       "      <th>16086</th>\n",
       "      <td>0151DAF505060E94</td>\n",
       "      <td>A</td>\n",
       "      <td>interface_eu_test</td>\n",
       "    </tr>\n",
       "    <tr>\n",
       "      <th>3073</th>\n",
       "      <td>01B9975CAE144B78</td>\n",
       "      <td>A</td>\n",
       "      <td>recommender_system_test</td>\n",
       "    </tr>\n",
       "    <tr>\n",
       "      <th>12937</th>\n",
       "      <td>01B9975CAE144B78</td>\n",
       "      <td>A</td>\n",
       "      <td>interface_eu_test</td>\n",
       "    </tr>\n",
       "    <tr>\n",
       "      <th>869</th>\n",
       "      <td>023D4A062F40F10B</td>\n",
       "      <td>B</td>\n",
       "      <td>recommender_system_test</td>\n",
       "    </tr>\n",
       "    <tr>\n",
       "      <th>13448</th>\n",
       "      <td>023D4A062F40F10B</td>\n",
       "      <td>A</td>\n",
       "      <td>interface_eu_test</td>\n",
       "    </tr>\n",
       "    <tr>\n",
       "      <th>12721</th>\n",
       "      <td>02894A55BC14A70E</td>\n",
       "      <td>A</td>\n",
       "      <td>interface_eu_test</td>\n",
       "    </tr>\n",
       "    <tr>\n",
       "      <th>238</th>\n",
       "      <td>02894A55BC14A70E</td>\n",
       "      <td>A</td>\n",
       "      <td>recommender_system_test</td>\n",
       "    </tr>\n",
       "    <tr>\n",
       "      <th>7502</th>\n",
       "      <td>0363BAFB478AA9EF</td>\n",
       "      <td>A</td>\n",
       "      <td>interface_eu_test</td>\n",
       "    </tr>\n",
       "    <tr>\n",
       "      <th>1032</th>\n",
       "      <td>0363BAFB478AA9EF</td>\n",
       "      <td>A</td>\n",
       "      <td>recommender_system_test</td>\n",
       "    </tr>\n",
       "    <tr>\n",
       "      <th>12738</th>\n",
       "      <td>037C3790C2C408BA</td>\n",
       "      <td>A</td>\n",
       "      <td>interface_eu_test</td>\n",
       "    </tr>\n",
       "    <tr>\n",
       "      <th>5610</th>\n",
       "      <td>037C3790C2C408BA</td>\n",
       "      <td>A</td>\n",
       "      <td>recommender_system_test</td>\n",
       "    </tr>\n",
       "    <tr>\n",
       "      <th>36</th>\n",
       "      <td>03FBDF999D5B81B8</td>\n",
       "      <td>A</td>\n",
       "      <td>recommender_system_test</td>\n",
       "    </tr>\n",
       "    <tr>\n",
       "      <th>17379</th>\n",
       "      <td>03FBDF999D5B81B8</td>\n",
       "      <td>A</td>\n",
       "      <td>interface_eu_test</td>\n",
       "    </tr>\n",
       "  </tbody>\n",
       "</table>\n",
       "</div>"
      ],
      "text/plain": [
       "                user_id group                  ab_test\n",
       "16961  00341D8401F0F665     A        interface_eu_test\n",
       "2137   00341D8401F0F665     A  recommender_system_test\n",
       "3156   003B6786B4FF5B03     A  recommender_system_test\n",
       "8143   003B6786B4FF5B03     A        interface_eu_test\n",
       "13517  00EFA157F7B6E1C4     A        interface_eu_test\n",
       "2541   00EFA157F7B6E1C4     A  recommender_system_test\n",
       "5800   0151DAF505060E94     A  recommender_system_test\n",
       "16086  0151DAF505060E94     A        interface_eu_test\n",
       "3073   01B9975CAE144B78     A  recommender_system_test\n",
       "12937  01B9975CAE144B78     A        interface_eu_test\n",
       "869    023D4A062F40F10B     B  recommender_system_test\n",
       "13448  023D4A062F40F10B     A        interface_eu_test\n",
       "12721  02894A55BC14A70E     A        interface_eu_test\n",
       "238    02894A55BC14A70E     A  recommender_system_test\n",
       "7502   0363BAFB478AA9EF     A        interface_eu_test\n",
       "1032   0363BAFB478AA9EF     A  recommender_system_test\n",
       "12738  037C3790C2C408BA     A        interface_eu_test\n",
       "5610   037C3790C2C408BA     A  recommender_system_test\n",
       "36     03FBDF999D5B81B8     A  recommender_system_test\n",
       "17379  03FBDF999D5B81B8     A        interface_eu_test"
      ]
     },
     "execution_count": 22,
     "metadata": {},
     "output_type": "execute_result"
    }
   ],
   "source": [
    "participants.query('user_id.isin(@duplicates_all)').sort_values(by='user_id').head(20)"
   ]
  },
  {
   "cell_type": "markdown",
   "id": "47020ad7",
   "metadata": {},
   "source": [
    "Условие соблюдено, влияние конкурирующего теста снято"
   ]
  },
  {
   "cell_type": "markdown",
   "id": "c911d97f",
   "metadata": {},
   "source": [
    "Удалим также все значения в `participants`, не относящиеся к рассматриваемому тесту"
   ]
  },
  {
   "cell_type": "code",
   "execution_count": 23,
   "id": "93bbad74",
   "metadata": {},
   "outputs": [],
   "source": [
    "participants = participants.query('ab_test == \"recommender_system_test\" ')"
   ]
  },
  {
   "cell_type": "markdown",
   "id": "72370819",
   "metadata": {},
   "source": [
    "### **Вывод**"
   ]
  },
  {
   "cell_type": "markdown",
   "id": "d159b3af",
   "metadata": {},
   "source": [
    "- Пропуски в данных только в датасете `events` в колонке `details` \n",
    "    - Пропуски соответствуют всем событиям, не являющимся событием `purchase`, что соответствует описанию данных\n",
    "    - Пропуски оставлены в первоначальном виде\n",
    "- Дата приведена к типу `datetime`\n",
    "- Обнаружены повторяющиеся `user_id` в `participants` -- \n",
    "    - Явление связано с участием одних и тех же пользователей в разных тестах\n",
    "    - Удалены пересечения пользователей с группой В конкурирующего теста"
   ]
  },
  {
   "cell_type": "markdown",
   "id": "cebcf738",
   "metadata": {},
   "source": [
    "## Проверка на корректность"
   ]
  },
  {
   "cell_type": "markdown",
   "id": "071a3e20",
   "metadata": {},
   "source": [
    "Проверим временные границы на соответствие ТЗ"
   ]
  },
  {
   "cell_type": "code",
   "execution_count": 24,
   "id": "de1cbf93",
   "metadata": {},
   "outputs": [
    {
     "name": "stdout",
     "output_type": "stream",
     "text": [
      "events\n",
      "min date: 2020-12-07 / max date: 2020-12-30\n",
      "\n",
      "new_users\n",
      "min date: 2020-12-07 / max date: 2020-12-23\n"
     ]
    }
   ],
   "source": [
    "print('events')\n",
    "print(f'min date: {events.event_dt.min().date()} / max date: {events.event_dt.max().date()}')\n",
    "print()\n",
    "print('new_users')\n",
    "print(f'min date: {new_users.first_date.min().date()} / max date: {new_users.first_date.max().date()}')"
   ]
  },
  {
   "cell_type": "markdown",
   "id": "60833f7f",
   "metadata": {},
   "source": [
    "- Начало теста и начало набора пользователей формально соответствуют ТЗ\n",
    "- Максимальная дата в `new_users` превышает дату остановки набора новых пользователей `2020-12-21`-- могут быть пользователи другого теста, нужно посмотреть подробнее\n",
    "- Максимальная дата в `events` не достигает даты остановки теста `2021-01-04` -- **тест меньше по продолжительности, чем планировался**"
   ]
  },
  {
   "cell_type": "markdown",
   "id": "efad91d5",
   "metadata": {},
   "source": [
    "Запишем идентификаторы пользователей, участвующих в тесте, согласно `participants`"
   ]
  },
  {
   "cell_type": "code",
   "execution_count": 25,
   "id": "0ab25d4f",
   "metadata": {},
   "outputs": [],
   "source": [
    "target_test_all = participants['user_id']\n",
    "target_test_A = participants.query('group == \"A\"')['user_id']\n",
    "target_test_B = participants.query('group == \"B\"')['user_id']"
   ]
  },
  {
   "cell_type": "markdown",
   "id": "7823f60f",
   "metadata": {},
   "source": [
    "Проверим временные границы только для рассматриваемого теста:"
   ]
  },
  {
   "cell_type": "code",
   "execution_count": 26,
   "id": "5d138d2e",
   "metadata": {},
   "outputs": [
    {
     "name": "stdout",
     "output_type": "stream",
     "text": [
      "events\n",
      "min date: 2020-12-07 / max date: 2020-12-29\n",
      "\n",
      "new_users\n",
      "min date: 2020-12-07 / max date: 2020-12-21\n",
      "--------\n",
      "events\n",
      "min date: 2020-12-07 / max date: 2020-12-30\n",
      "\n",
      "new_users\n",
      "min date: 2020-12-07 / max date: 2020-12-21\n",
      "--------\n"
     ]
    }
   ],
   "source": [
    "for i in [target_test_A, target_test_B]:\n",
    "\n",
    "    print('events')\n",
    "    print(f'min date: {events[events.user_id.isin(i)].event_dt.min().date()} / max date: {events[events.user_id.isin(i)].event_dt.max().date()}')\n",
    "    print()\n",
    "    print('new_users')\n",
    "    print(f'min date: {new_users[new_users.user_id.isin(i)].first_date.min().date()} / max date: {new_users[new_users.user_id.isin(i)].first_date.max().date()}')\n",
    "    print('--------')"
   ]
  },
  {
   "cell_type": "markdown",
   "id": "fe818848",
   "metadata": {},
   "source": [
    "- Время набора пользователей в группы корректно\n",
    "- **Последняя дата для пользователей из группы А на день меньше последней даты для пользователей из группы В**"
   ]
  },
  {
   "cell_type": "markdown",
   "id": "cc44a953",
   "metadata": {},
   "source": [
    "Проверим соответствие доле новых пользователей из `EU`"
   ]
  },
  {
   "cell_type": "code",
   "execution_count": 27,
   "id": "7ab66429",
   "metadata": {},
   "outputs": [
    {
     "data": {
      "text/html": [
       "<div>\n",
       "<style scoped>\n",
       "    .dataframe tbody tr th:only-of-type {\n",
       "        vertical-align: middle;\n",
       "    }\n",
       "\n",
       "    .dataframe tbody tr th {\n",
       "        vertical-align: top;\n",
       "    }\n",
       "\n",
       "    .dataframe thead th {\n",
       "        text-align: right;\n",
       "    }\n",
       "</style>\n",
       "<table border=\"1\" class=\"dataframe\">\n",
       "  <thead>\n",
       "    <tr style=\"text-align: right;\">\n",
       "      <th></th>\n",
       "      <th>user_id</th>\n",
       "      <th>first_date</th>\n",
       "      <th>region</th>\n",
       "      <th>device</th>\n",
       "    </tr>\n",
       "  </thead>\n",
       "  <tbody>\n",
       "    <tr>\n",
       "      <th>0</th>\n",
       "      <td>D72A72121175D8BE</td>\n",
       "      <td>2020-12-07</td>\n",
       "      <td>EU</td>\n",
       "      <td>PC</td>\n",
       "    </tr>\n",
       "    <tr>\n",
       "      <th>1</th>\n",
       "      <td>F1C668619DFE6E65</td>\n",
       "      <td>2020-12-07</td>\n",
       "      <td>N.America</td>\n",
       "      <td>Android</td>\n",
       "    </tr>\n",
       "    <tr>\n",
       "      <th>2</th>\n",
       "      <td>2E1BF1D4C37EA01F</td>\n",
       "      <td>2020-12-07</td>\n",
       "      <td>EU</td>\n",
       "      <td>PC</td>\n",
       "    </tr>\n",
       "    <tr>\n",
       "      <th>3</th>\n",
       "      <td>50734A22C0C63768</td>\n",
       "      <td>2020-12-07</td>\n",
       "      <td>EU</td>\n",
       "      <td>iPhone</td>\n",
       "    </tr>\n",
       "    <tr>\n",
       "      <th>4</th>\n",
       "      <td>E1BDDCE0DAFA2679</td>\n",
       "      <td>2020-12-07</td>\n",
       "      <td>N.America</td>\n",
       "      <td>iPhone</td>\n",
       "    </tr>\n",
       "  </tbody>\n",
       "</table>\n",
       "</div>"
      ],
      "text/plain": [
       "            user_id first_date     region   device\n",
       "0  D72A72121175D8BE 2020-12-07         EU       PC\n",
       "1  F1C668619DFE6E65 2020-12-07  N.America  Android\n",
       "2  2E1BF1D4C37EA01F 2020-12-07         EU       PC\n",
       "3  50734A22C0C63768 2020-12-07         EU   iPhone\n",
       "4  E1BDDCE0DAFA2679 2020-12-07  N.America   iPhone"
      ]
     },
     "execution_count": 27,
     "metadata": {},
     "output_type": "execute_result"
    }
   ],
   "source": [
    "new_users.head()"
   ]
  },
  {
   "cell_type": "code",
   "execution_count": 28,
   "id": "f07505d7",
   "metadata": {},
   "outputs": [
    {
     "data": {
      "image/png": "[encoded data removed]",
      "text/plain": [
       "<Figure size 1200x500 with 1 Axes>"
      ]
     },
     "metadata": {},
     "output_type": "display_data"
    }
   ],
   "source": [
    "fig, ax = plt.subplots()\n",
    "fig.set_size_inches(12, 5)\n",
    "sns.histplot(data=new_users.query('region == \"EU\" '), x='first_date', binwidth=1);\n",
    "ax.set(xlabel=None, ylabel='количество регистраций', title='Распределение регистраций из EU \\n');"
   ]
  },
  {
   "cell_type": "markdown",
   "id": "e343f523",
   "metadata": {},
   "source": [
    "Есть регистрации за пределами периода набора новых пользователей в тест `2020-12-07` -- `2020-12-21`, учтем это при расчете доли"
   ]
  },
  {
   "cell_type": "code",
   "execution_count": 29,
   "id": "19cf7b3c",
   "metadata": {},
   "outputs": [
    {
     "name": "stdout",
     "output_type": "stream",
     "text": [
      "целевая доля: 0.150 / фактическая доля: 0.134\n",
      "абсолютное отклонение: -0.016 / относительное отклонение: -10.7%\n"
     ]
    }
   ],
   "source": [
    "new_users_end_date = datetime(2020, 12, 21)\n",
    "EU_users = new_users.query('region == \"EU\" and first_date <= @new_users_end_date')\n",
    "\n",
    "frac_EU = (EU_users.query('user_id.isin(@participants.user_id)').shape[0] / EU_users.shape[0])\n",
    "\n",
    "print(f'целевая доля: {0.15:.3f} / фактическая доля: {frac_EU:.3f}')\n",
    "print(f'абсолютное отклонение: {frac_EU - 0.15:.3f} / относительное отклонение: {(frac_EU - 0.15) / 0.15:.1%}')"
   ]
  },
  {
   "cell_type": "markdown",
   "id": "0cef69d9",
   "metadata": {},
   "source": [
    "- Фактическая доля ниже целевой на 11 %: 0.13 вместо 0.15 \n",
    "- Это снижает охват тестом целевой аудитории -- регион `EU`"
   ]
  },
  {
   "cell_type": "markdown",
   "id": "c7290f60",
   "metadata": {},
   "source": [
    "Согласно ТЗ в тесте должны участвовать только пользователи региона `EU`, проверим это:"
   ]
  },
  {
   "cell_type": "code",
   "execution_count": 30,
   "id": "0b633488",
   "metadata": {},
   "outputs": [
    {
     "data": {
      "text/plain": [
       "region\n",
       "APAC           72\n",
       "CIS            55\n",
       "EU           5568\n",
       "N.America     223\n",
       "Name: user_id, dtype: int64"
      ]
     },
     "execution_count": 30,
     "metadata": {},
     "output_type": "execute_result"
    }
   ],
   "source": [
    "new_users.query('user_id.isin(@target_test_all)').groupby('region')['user_id'].count()"
   ]
  },
  {
   "cell_type": "markdown",
   "id": "443bee2a",
   "metadata": {},
   "source": [
    "- Подавляющее большинство пользователей из нужного региона, но есть и пользователи из других регионов\n",
    "- Пользователи из других регионов снижают ценность теста: поскольку задачей была оценка влияния изменений на пользователей `EU`, то наличие других пользователей размывает оценку, если оставить как есть, то будем оценивать влияние изменений в основном на `EU`, но и в малой степени на другие регионы\n",
    "- Удалим пользователей из других регионов"
   ]
  },
  {
   "cell_type": "code",
   "execution_count": 31,
   "id": "6f540412",
   "metadata": {},
   "outputs": [],
   "source": [
    "EU_users = new_users.query('region == \"EU\"')['user_id']\n",
    "participants = participants.query('user_id.isin(@EU_users)')"
   ]
  },
  {
   "cell_type": "code",
   "execution_count": 32,
   "id": "287f8774",
   "metadata": {},
   "outputs": [
    {
     "data": {
      "text/plain": [
       "region\n",
       "EU    5568\n",
       "Name: user_id, dtype: int64"
      ]
     },
     "execution_count": 32,
     "metadata": {},
     "output_type": "execute_result"
    }
   ],
   "source": [
    "# refreshing tables with target users\n",
    "target_test_all = participants['user_id']\n",
    "target_test_A = participants.query('group == \"A\"')['user_id']\n",
    "target_test_B = participants.query('group == \"B\"')['user_id']\n",
    "\n",
    "\n",
    "new_users.query('user_id.isin(@target_test_all)').groupby('region')['user_id'].count()"
   ]
  },
  {
   "cell_type": "markdown",
   "id": "88a7c5f6",
   "metadata": {},
   "source": [
    "Посмотрим на количество участников тестирования"
   ]
  },
  {
   "cell_type": "code",
   "execution_count": 33,
   "id": "652b243a",
   "metadata": {},
   "outputs": [
    {
     "name": "stdout",
     "output_type": "stream",
     "text": [
      "целевое количество участников: 6000 / фактическое количество участников: 5568\n",
      "группа А: 3195 / группа В: 2373\n",
      "отношение  57% / 43%\n"
     ]
    }
   ],
   "source": [
    "print(f'целевое количество участников: {6000:.0f} / фактическое количество участников: {target_test_all.shape[0]:.0f}')\n",
    "print(f'группа А: {target_test_A.shape[0]:.0f} / группа В: {target_test_B.shape[0]:.0f}')\n",
    "print(f'отношение  {target_test_A.shape[0] / target_test_all.shape[0]:.0%} / {target_test_B.shape[0] / target_test_all.shape[0]:.0%}')"
   ]
  },
  {
   "cell_type": "markdown",
   "id": "55abb2c7",
   "metadata": {},
   "source": [
    "- **Общее число тестируемых ниже целевого** -- негативное изменение, это снижает охват пользователей тестированием, однако, количество тестируемых достаточно велико\n",
    "- Группы теста несбалансированы: 57/43 %, что снижает мощность теста, однако, это вряд ли создает трудности: в рамках исследования будем отслеживать достаточно большой эффект в 10 %, который даже со сниженной мощностью маловероятно пропустить (тем более, что дисбаланс не такой уж сильный)\n",
    "- Подробнее оценим факторы размера выборок позже, когда будем уверены в корректном составе групп, т.к. для уверенного ответа о достаточности объемов выборок можно судить только зная базовую конверсию"
   ]
  },
  {
   "cell_type": "markdown",
   "id": "128a2404",
   "metadata": {},
   "source": [
    "Проверим влияние внешних факторов на тест: есть ли наложение маркетинговых активностей во время проведения теста?"
   ]
  },
  {
   "cell_type": "code",
   "execution_count": 34,
   "id": "da3c9f9f",
   "metadata": {},
   "outputs": [
    {
     "data": {
      "text/html": [
       "<div>\n",
       "<style scoped>\n",
       "    .dataframe tbody tr th:only-of-type {\n",
       "        vertical-align: middle;\n",
       "    }\n",
       "\n",
       "    .dataframe tbody tr th {\n",
       "        vertical-align: top;\n",
       "    }\n",
       "\n",
       "    .dataframe thead th {\n",
       "        text-align: right;\n",
       "    }\n",
       "</style>\n",
       "<table border=\"1\" class=\"dataframe\">\n",
       "  <thead>\n",
       "    <tr style=\"text-align: right;\">\n",
       "      <th></th>\n",
       "      <th>name</th>\n",
       "      <th>regions</th>\n",
       "      <th>start_dt</th>\n",
       "      <th>finish_dt</th>\n",
       "    </tr>\n",
       "  </thead>\n",
       "  <tbody>\n",
       "    <tr>\n",
       "      <th>0</th>\n",
       "      <td>Christmas&amp;New Year Promo</td>\n",
       "      <td>EU, N.America</td>\n",
       "      <td>2020-12-25</td>\n",
       "      <td>2021-01-03</td>\n",
       "    </tr>\n",
       "    <tr>\n",
       "      <th>1</th>\n",
       "      <td>St. Valentine's Day Giveaway</td>\n",
       "      <td>EU, CIS, APAC, N.America</td>\n",
       "      <td>2020-02-14</td>\n",
       "      <td>2020-02-16</td>\n",
       "    </tr>\n",
       "    <tr>\n",
       "      <th>2</th>\n",
       "      <td>St. Patric's Day Promo</td>\n",
       "      <td>EU, N.America</td>\n",
       "      <td>2020-03-17</td>\n",
       "      <td>2020-03-19</td>\n",
       "    </tr>\n",
       "    <tr>\n",
       "      <th>3</th>\n",
       "      <td>Easter Promo</td>\n",
       "      <td>EU, CIS, APAC, N.America</td>\n",
       "      <td>2020-04-12</td>\n",
       "      <td>2020-04-19</td>\n",
       "    </tr>\n",
       "    <tr>\n",
       "      <th>4</th>\n",
       "      <td>4th of July Promo</td>\n",
       "      <td>N.America</td>\n",
       "      <td>2020-07-04</td>\n",
       "      <td>2020-07-11</td>\n",
       "    </tr>\n",
       "    <tr>\n",
       "      <th>5</th>\n",
       "      <td>Black Friday Ads Campaign</td>\n",
       "      <td>EU, CIS, APAC, N.America</td>\n",
       "      <td>2020-11-26</td>\n",
       "      <td>2020-12-01</td>\n",
       "    </tr>\n",
       "    <tr>\n",
       "      <th>6</th>\n",
       "      <td>Chinese New Year Promo</td>\n",
       "      <td>APAC</td>\n",
       "      <td>2020-01-25</td>\n",
       "      <td>2020-02-07</td>\n",
       "    </tr>\n",
       "    <tr>\n",
       "      <th>7</th>\n",
       "      <td>Labor day (May 1st) Ads Campaign</td>\n",
       "      <td>EU, CIS, APAC</td>\n",
       "      <td>2020-05-01</td>\n",
       "      <td>2020-05-03</td>\n",
       "    </tr>\n",
       "    <tr>\n",
       "      <th>8</th>\n",
       "      <td>International Women's Day Promo</td>\n",
       "      <td>EU, CIS, APAC</td>\n",
       "      <td>2020-03-08</td>\n",
       "      <td>2020-03-10</td>\n",
       "    </tr>\n",
       "    <tr>\n",
       "      <th>9</th>\n",
       "      <td>Victory Day CIS (May 9th) Event</td>\n",
       "      <td>CIS</td>\n",
       "      <td>2020-05-09</td>\n",
       "      <td>2020-05-11</td>\n",
       "    </tr>\n",
       "    <tr>\n",
       "      <th>10</th>\n",
       "      <td>CIS New Year Gift Lottery</td>\n",
       "      <td>CIS</td>\n",
       "      <td>2020-12-30</td>\n",
       "      <td>2021-01-07</td>\n",
       "    </tr>\n",
       "    <tr>\n",
       "      <th>11</th>\n",
       "      <td>Dragon Boat Festival Giveaway</td>\n",
       "      <td>APAC</td>\n",
       "      <td>2020-06-25</td>\n",
       "      <td>2020-07-01</td>\n",
       "    </tr>\n",
       "    <tr>\n",
       "      <th>12</th>\n",
       "      <td>Single's Day Gift Promo</td>\n",
       "      <td>APAC</td>\n",
       "      <td>2020-11-11</td>\n",
       "      <td>2020-11-12</td>\n",
       "    </tr>\n",
       "    <tr>\n",
       "      <th>13</th>\n",
       "      <td>Chinese Moon Festival</td>\n",
       "      <td>APAC</td>\n",
       "      <td>2020-10-01</td>\n",
       "      <td>2020-10-07</td>\n",
       "    </tr>\n",
       "  </tbody>\n",
       "</table>\n",
       "</div>"
      ],
      "text/plain": [
       "                                name                   regions   start_dt  \\\n",
       "0           Christmas&New Year Promo             EU, N.America 2020-12-25   \n",
       "1       St. Valentine's Day Giveaway  EU, CIS, APAC, N.America 2020-02-14   \n",
       "2             St. Patric's Day Promo             EU, N.America 2020-03-17   \n",
       "3                       Easter Promo  EU, CIS, APAC, N.America 2020-04-12   \n",
       "4                  4th of July Promo                 N.America 2020-07-04   \n",
       "5          Black Friday Ads Campaign  EU, CIS, APAC, N.America 2020-11-26   \n",
       "6             Chinese New Year Promo                      APAC 2020-01-25   \n",
       "7   Labor day (May 1st) Ads Campaign             EU, CIS, APAC 2020-05-01   \n",
       "8    International Women's Day Promo             EU, CIS, APAC 2020-03-08   \n",
       "9    Victory Day CIS (May 9th) Event                       CIS 2020-05-09   \n",
       "10         CIS New Year Gift Lottery                       CIS 2020-12-30   \n",
       "11     Dragon Boat Festival Giveaway                      APAC 2020-06-25   \n",
       "12           Single's Day Gift Promo                      APAC 2020-11-11   \n",
       "13             Chinese Moon Festival                      APAC 2020-10-01   \n",
       "\n",
       "    finish_dt  \n",
       "0  2021-01-03  \n",
       "1  2020-02-16  \n",
       "2  2020-03-19  \n",
       "3  2020-04-19  \n",
       "4  2020-07-11  \n",
       "5  2020-12-01  \n",
       "6  2020-02-07  \n",
       "7  2020-05-03  \n",
       "8  2020-03-10  \n",
       "9  2020-05-11  \n",
       "10 2021-01-07  \n",
       "11 2020-07-01  \n",
       "12 2020-11-12  \n",
       "13 2020-10-07  "
      ]
     },
     "execution_count": 34,
     "metadata": {},
     "output_type": "execute_result"
    }
   ],
   "source": [
    "marketing_ev"
   ]
  },
  {
   "cell_type": "code",
   "execution_count": 35,
   "id": "824b2af0",
   "metadata": {},
   "outputs": [
    {
     "name": "stdout",
     "output_type": "stream",
     "text": [
      "Christmas&New Year Promo  /  EU, N.America\n",
      "CIS New Year Gift Lottery  /  CIS\n"
     ]
    }
   ],
   "source": [
    "test_start = datetime(2020, 12, 7)\n",
    "test_end = datetime(2020, 12, 30)\n",
    "\n",
    "for i in marketing_ev.index:\n",
    "# condition when there is no intersection with test\n",
    "    if not ((marketing_ev.loc[i, 'start_dt'] < test_start and marketing_ev.loc[i, 'finish_dt'] < test_start) or \n",
    "            (marketing_ev.loc[i, 'start_dt'] > test_end and marketing_ev.loc[i, 'finish_dt'] > test_end)):\n",
    "# showing problematic events and their regions\n",
    "        print(marketing_ev.loc[i, 'name'], ' / ', marketing_ev.loc[i, 'regions'])"
   ]
  },
  {
   "cell_type": "markdown",
   "id": "5e1c2a26",
   "metadata": {},
   "source": [
    "- Есть пересечения по времени с двумя активностями, однако, по географии пересекается только событие `Christmas&New Year Promo`, т.к. все наши тестируемые из `EU`\n",
    "- Следует проверить: фиксируется ли влияние `Christmas&New Year Promo` на динамике количества событий у пользователей, начиная с `2020-12-25`?\n",
    "- Если фиксируется, тогда отбросим этим события у пользователей, если нет, тогда оставим"
   ]
  },
  {
   "cell_type": "code",
   "execution_count": 36,
   "id": "781f0f18",
   "metadata": {},
   "outputs": [
    {
     "data": {
      "image/png": "[encoded data removed]",
      "text/plain": [
       "<Figure size 1000x500 with 1 Axes>"
      ]
     },
     "metadata": {},
     "output_type": "display_data"
    }
   ],
   "source": [
    "# adding new date column without time of event\n",
    "events['event_dt_date'] = events.event_dt.dt.date\n",
    "\n",
    "events_dynamics = (events\n",
    "                   .query('user_id.isin(@target_test_all)')\n",
    "                   .groupby('event_dt_date')['user_id']\n",
    "                   .count()\n",
    "                   .reset_index()\n",
    "                   .rename(columns={'user_id':'events_cnt'}))\n",
    "\n",
    "fig, ax = plt.subplots()\n",
    "fig.set(size_inches=(10,5))\n",
    "\n",
    "sns.lineplot(ax=ax, data=events_dynamics, x='event_dt_date', y='events_cnt');\n",
    "ax.set(xlabel=None, ylabel='количество событий', title='Распределение событий по времени для всех участников теста \\n');\n",
    "ax.axvline(x=datetime(2020, 12, 25), ls='--', color='r');"
   ]
  },
  {
   "cell_type": "markdown",
   "id": "d11504e6",
   "metadata": {},
   "source": [
    "Посмотрим на динамику для двух тестовых групп в отдельности"
   ]
  },
  {
   "cell_type": "code",
   "execution_count": 37,
   "id": "6451896a",
   "metadata": {},
   "outputs": [
    {
     "data": {
      "image/png": "[encoded data removed]",
      "text/plain": [
       "<Figure size 1000x500 with 1 Axes>"
      ]
     },
     "metadata": {},
     "output_type": "display_data"
    }
   ],
   "source": [
    "events_dynamics = (events\n",
    "                   .query('user_id.isin(@target_test_A)')\n",
    "                   .groupby('event_dt_date')['user_id']\n",
    "                   .count()\n",
    "                   .reset_index()\n",
    "                   .rename(columns={'user_id':'events_cnt'}))\n",
    "\n",
    "fig, ax = plt.subplots()\n",
    "fig.set(size_inches=(10,5))\n",
    "sns.lineplot(ax=ax, data=events_dynamics, x='event_dt_date', y='events_cnt');\n",
    "ax.set(xlabel=None, ylabel='количество событий', title='Распределение событий по времени для группы А \\n');\n",
    "ax.axvline(x=datetime(2020, 12, 25), ls='--', color='r');"
   ]
  },
  {
   "cell_type": "code",
   "execution_count": 38,
   "id": "b59c31e1",
   "metadata": {},
   "outputs": [
    {
     "data": {
      "image/png": "[encoded data removed]",
      "text/plain": [
       "<Figure size 1000x500 with 1 Axes>"
      ]
     },
     "metadata": {},
     "output_type": "display_data"
    }
   ],
   "source": [
    "events_dynamics = (events\n",
    "                   .query('user_id.isin(@target_test_B)')\n",
    "                   .groupby('event_dt_date')['user_id']\n",
    "                   .count()\n",
    "                   .reset_index()\n",
    "                   .rename(columns={'user_id':'events_cnt'}))\n",
    "\n",
    "fig, ax = plt.subplots()\n",
    "fig.set(size_inches=(10,5))\n",
    "sns.lineplot(ax=ax, data=events_dynamics, x='event_dt_date', y='events_cnt');\n",
    "ax.set(xlabel=None, ylabel='количество событий', title='Распределение событий по времени для группы В \\n');\n",
    "ax.axvline(x=datetime(2020, 12, 25), ls='--', color='r');"
   ]
  },
  {
   "cell_type": "markdown",
   "id": "ea8029e9",
   "metadata": {},
   "source": [
    "- После `2020-12-21` заметно снижение количества действий для обеих групп\n",
    "    - Вероятно, явление связано с прекращением набора новых пользователей в эту дату и фактором сезонности\n",
    "        - Снижение количества действий после прекращения набора новых пользователей в тест косвенно говорит о том, что свои покупки пользователи совершают в начале лайфтайма\n",
    "        - Можно предположить, что с этой даты и до конца года пользователи прекращают свои новогодние покупки в сервисе\n",
    "- Наклон динамики остался примерно тем же после начала кампании -- вероятно не было позитивного или негативного воздействия на пользователей\n",
    "- **Нельзя утверждать, что начало маркетинговой кампании повлияло на результаты теста, поэтому не удаляем события, проходящие в интервал ее проведения**"
   ]
  },
  {
   "cell_type": "markdown",
   "id": "c0296c73",
   "metadata": {},
   "source": [
    "Проверим условие постоянства тестовой группы для всех участников"
   ]
  },
  {
   "cell_type": "code",
   "execution_count": 39,
   "id": "bd366ca3",
   "metadata": {},
   "outputs": [
    {
     "data": {
      "text/html": [
       "<div>\n",
       "<style scoped>\n",
       "    .dataframe tbody tr th:only-of-type {\n",
       "        vertical-align: middle;\n",
       "    }\n",
       "\n",
       "    .dataframe tbody tr th {\n",
       "        vertical-align: top;\n",
       "    }\n",
       "\n",
       "    .dataframe thead th {\n",
       "        text-align: right;\n",
       "    }\n",
       "</style>\n",
       "<table border=\"1\" class=\"dataframe\">\n",
       "  <thead>\n",
       "    <tr style=\"text-align: right;\">\n",
       "      <th></th>\n",
       "      <th>user_id</th>\n",
       "      <th>group</th>\n",
       "      <th>ab_test</th>\n",
       "    </tr>\n",
       "  </thead>\n",
       "  <tbody>\n",
       "    <tr>\n",
       "      <th>0</th>\n",
       "      <td>D1ABA3E2887B6A73</td>\n",
       "      <td>A</td>\n",
       "      <td>recommender_system_test</td>\n",
       "    </tr>\n",
       "    <tr>\n",
       "      <th>1</th>\n",
       "      <td>A7A3664BD6242119</td>\n",
       "      <td>A</td>\n",
       "      <td>recommender_system_test</td>\n",
       "    </tr>\n",
       "    <tr>\n",
       "      <th>2</th>\n",
       "      <td>DABC14FDDFADD29E</td>\n",
       "      <td>A</td>\n",
       "      <td>recommender_system_test</td>\n",
       "    </tr>\n",
       "    <tr>\n",
       "      <th>3</th>\n",
       "      <td>04988C5DF189632E</td>\n",
       "      <td>A</td>\n",
       "      <td>recommender_system_test</td>\n",
       "    </tr>\n",
       "    <tr>\n",
       "      <th>4</th>\n",
       "      <td>482F14783456D21B</td>\n",
       "      <td>B</td>\n",
       "      <td>recommender_system_test</td>\n",
       "    </tr>\n",
       "  </tbody>\n",
       "</table>\n",
       "</div>"
      ],
      "text/plain": [
       "            user_id group                  ab_test\n",
       "0  D1ABA3E2887B6A73     A  recommender_system_test\n",
       "1  A7A3664BD6242119     A  recommender_system_test\n",
       "2  DABC14FDDFADD29E     A  recommender_system_test\n",
       "3  04988C5DF189632E     A  recommender_system_test\n",
       "4  482F14783456D21B     B  recommender_system_test"
      ]
     },
     "execution_count": 39,
     "metadata": {},
     "output_type": "execute_result"
    }
   ],
   "source": [
    "participants.head()"
   ]
  },
  {
   "cell_type": "code",
   "execution_count": 40,
   "id": "51282dd6",
   "metadata": {},
   "outputs": [
    {
     "data": {
      "text/plain": [
       "0"
      ]
     },
     "execution_count": 40,
     "metadata": {},
     "output_type": "execute_result"
    }
   ],
   "source": [
    "participants.duplicated(subset='user_id').sum()"
   ]
  },
  {
   "cell_type": "markdown",
   "id": "44365c6d",
   "metadata": {},
   "source": [
    "Повторов идентификатора нет, значит, тестовая группа была присвоена единожды каждому пользователю"
   ]
  },
  {
   "cell_type": "markdown",
   "id": "f9df39a2",
   "metadata": {},
   "source": [
    "- Проверим: есть ли такие пользователи, которые не совершили ни одного действия за период проведения эксперимента (даже не залогинились)\n",
    "- Такие пользователи не дают ответа на то, как изменились конверсии, значит, их можно удалить"
   ]
  },
  {
   "cell_type": "code",
   "execution_count": 41,
   "id": "8fa3359e",
   "metadata": {},
   "outputs": [
    {
     "data": {
      "text/plain": [
       "2518"
      ]
     },
     "execution_count": 41,
     "metadata": {},
     "output_type": "execute_result"
    }
   ],
   "source": [
    "users_with_actions = events.user_id.unique()\n",
    "participants[~participants.user_id.isin(users_with_actions)].shape[0]"
   ]
  },
  {
   "cell_type": "markdown",
   "id": "97d8faac",
   "metadata": {},
   "source": [
    "Такие пользователи есть, удалим их"
   ]
  },
  {
   "cell_type": "code",
   "execution_count": 42,
   "id": "87cd518a",
   "metadata": {},
   "outputs": [],
   "source": [
    "participants = participants[participants.user_id.isin(users_with_actions)]"
   ]
  },
  {
   "cell_type": "markdown",
   "id": "b0457042",
   "metadata": {},
   "source": [
    "- По ТЗ мы рассматриваем только двухнедельный лайфтайм, действия за этим промежутком для каждого пользователя в расчет брать не нужно\n",
    "- Удалим для каждого пользователя действия за двухнедельным лайфтаймом"
   ]
  },
  {
   "cell_type": "markdown",
   "id": "a98e554c",
   "metadata": {},
   "source": [
    "Добавим информацию о регистрации для каждого пользователя в таблицу `events`:"
   ]
  },
  {
   "cell_type": "code",
   "execution_count": 43,
   "id": "50788680",
   "metadata": {},
   "outputs": [
    {
     "data": {
      "text/html": [
       "<div>\n",
       "<style scoped>\n",
       "    .dataframe tbody tr th:only-of-type {\n",
       "        vertical-align: middle;\n",
       "    }\n",
       "\n",
       "    .dataframe tbody tr th {\n",
       "        vertical-align: top;\n",
       "    }\n",
       "\n",
       "    .dataframe thead th {\n",
       "        text-align: right;\n",
       "    }\n",
       "</style>\n",
       "<table border=\"1\" class=\"dataframe\">\n",
       "  <thead>\n",
       "    <tr style=\"text-align: right;\">\n",
       "      <th></th>\n",
       "      <th>user_id</th>\n",
       "      <th>event_dt</th>\n",
       "      <th>event_name</th>\n",
       "      <th>details</th>\n",
       "      <th>event_dt_date</th>\n",
       "      <th>first_date</th>\n",
       "      <th>region</th>\n",
       "      <th>device</th>\n",
       "    </tr>\n",
       "  </thead>\n",
       "  <tbody>\n",
       "    <tr>\n",
       "      <th>0</th>\n",
       "      <td>E1BDDCE0DAFA2679</td>\n",
       "      <td>2020-12-07 20:22:03</td>\n",
       "      <td>purchase</td>\n",
       "      <td>99.99</td>\n",
       "      <td>2020-12-07</td>\n",
       "      <td>2020-12-07</td>\n",
       "      <td>N.America</td>\n",
       "      <td>iPhone</td>\n",
       "    </tr>\n",
       "    <tr>\n",
       "      <th>1</th>\n",
       "      <td>7B6452F081F49504</td>\n",
       "      <td>2020-12-07 09:22:53</td>\n",
       "      <td>purchase</td>\n",
       "      <td>9.99</td>\n",
       "      <td>2020-12-07</td>\n",
       "      <td>2020-12-07</td>\n",
       "      <td>EU</td>\n",
       "      <td>iPhone</td>\n",
       "    </tr>\n",
       "    <tr>\n",
       "      <th>2</th>\n",
       "      <td>9CD9F34546DF254C</td>\n",
       "      <td>2020-12-07 12:59:29</td>\n",
       "      <td>purchase</td>\n",
       "      <td>4.99</td>\n",
       "      <td>2020-12-07</td>\n",
       "      <td>2020-12-07</td>\n",
       "      <td>N.America</td>\n",
       "      <td>iPhone</td>\n",
       "    </tr>\n",
       "    <tr>\n",
       "      <th>3</th>\n",
       "      <td>96F27A054B191457</td>\n",
       "      <td>2020-12-07 04:02:40</td>\n",
       "      <td>purchase</td>\n",
       "      <td>4.99</td>\n",
       "      <td>2020-12-07</td>\n",
       "      <td>2020-12-07</td>\n",
       "      <td>EU</td>\n",
       "      <td>iPhone</td>\n",
       "    </tr>\n",
       "    <tr>\n",
       "      <th>4</th>\n",
       "      <td>1FD7660FDF94CA1F</td>\n",
       "      <td>2020-12-07 10:15:09</td>\n",
       "      <td>purchase</td>\n",
       "      <td>4.99</td>\n",
       "      <td>2020-12-07</td>\n",
       "      <td>2020-12-07</td>\n",
       "      <td>EU</td>\n",
       "      <td>Android</td>\n",
       "    </tr>\n",
       "  </tbody>\n",
       "</table>\n",
       "</div>"
      ],
      "text/plain": [
       "            user_id            event_dt event_name  details event_dt_date  \\\n",
       "0  E1BDDCE0DAFA2679 2020-12-07 20:22:03   purchase    99.99    2020-12-07   \n",
       "1  7B6452F081F49504 2020-12-07 09:22:53   purchase     9.99    2020-12-07   \n",
       "2  9CD9F34546DF254C 2020-12-07 12:59:29   purchase     4.99    2020-12-07   \n",
       "3  96F27A054B191457 2020-12-07 04:02:40   purchase     4.99    2020-12-07   \n",
       "4  1FD7660FDF94CA1F 2020-12-07 10:15:09   purchase     4.99    2020-12-07   \n",
       "\n",
       "  first_date     region   device  \n",
       "0 2020-12-07  N.America   iPhone  \n",
       "1 2020-12-07         EU   iPhone  \n",
       "2 2020-12-07  N.America   iPhone  \n",
       "3 2020-12-07         EU   iPhone  \n",
       "4 2020-12-07         EU  Android  "
      ]
     },
     "execution_count": 43,
     "metadata": {},
     "output_type": "execute_result"
    }
   ],
   "source": [
    "events = events.merge(new_users, how='left', on='user_id')\n",
    "events.head()"
   ]
  },
  {
   "cell_type": "code",
   "execution_count": 44,
   "id": "0e38085c",
   "metadata": {},
   "outputs": [
    {
     "data": {
      "text/html": [
       "<div>\n",
       "<style scoped>\n",
       "    .dataframe tbody tr th:only-of-type {\n",
       "        vertical-align: middle;\n",
       "    }\n",
       "\n",
       "    .dataframe tbody tr th {\n",
       "        vertical-align: top;\n",
       "    }\n",
       "\n",
       "    .dataframe thead th {\n",
       "        text-align: right;\n",
       "    }\n",
       "</style>\n",
       "<table border=\"1\" class=\"dataframe\">\n",
       "  <thead>\n",
       "    <tr style=\"text-align: right;\">\n",
       "      <th></th>\n",
       "      <th>user_id</th>\n",
       "      <th>event_dt</th>\n",
       "      <th>event_name</th>\n",
       "      <th>details</th>\n",
       "      <th>event_dt_date</th>\n",
       "      <th>first_date</th>\n",
       "      <th>region</th>\n",
       "      <th>device</th>\n",
       "      <th>lifetime</th>\n",
       "    </tr>\n",
       "  </thead>\n",
       "  <tbody>\n",
       "    <tr>\n",
       "      <th>1636</th>\n",
       "      <td>9CD9F34546DF254C</td>\n",
       "      <td>2020-12-08 07:21:15</td>\n",
       "      <td>purchase</td>\n",
       "      <td>99.99</td>\n",
       "      <td>2020-12-08</td>\n",
       "      <td>2020-12-07</td>\n",
       "      <td>N.America</td>\n",
       "      <td>iPhone</td>\n",
       "      <td>1</td>\n",
       "    </tr>\n",
       "    <tr>\n",
       "      <th>1637</th>\n",
       "      <td>96F27A054B191457</td>\n",
       "      <td>2020-12-08 09:43:14</td>\n",
       "      <td>purchase</td>\n",
       "      <td>4.99</td>\n",
       "      <td>2020-12-08</td>\n",
       "      <td>2020-12-07</td>\n",
       "      <td>EU</td>\n",
       "      <td>iPhone</td>\n",
       "      <td>1</td>\n",
       "    </tr>\n",
       "    <tr>\n",
       "      <th>1638</th>\n",
       "      <td>6B2F726BFD5F8220</td>\n",
       "      <td>2020-12-08 07:31:43</td>\n",
       "      <td>purchase</td>\n",
       "      <td>4.99</td>\n",
       "      <td>2020-12-08</td>\n",
       "      <td>2020-12-07</td>\n",
       "      <td>EU</td>\n",
       "      <td>Android</td>\n",
       "      <td>1</td>\n",
       "    </tr>\n",
       "    <tr>\n",
       "      <th>1639</th>\n",
       "      <td>BEB37715AACF53B0</td>\n",
       "      <td>2020-12-08 03:57:34</td>\n",
       "      <td>purchase</td>\n",
       "      <td>4.99</td>\n",
       "      <td>2020-12-08</td>\n",
       "      <td>2020-12-07</td>\n",
       "      <td>EU</td>\n",
       "      <td>Android</td>\n",
       "      <td>1</td>\n",
       "    </tr>\n",
       "    <tr>\n",
       "      <th>1640</th>\n",
       "      <td>B5FA27F582227197</td>\n",
       "      <td>2020-12-08 22:51:25</td>\n",
       "      <td>purchase</td>\n",
       "      <td>4.99</td>\n",
       "      <td>2020-12-08</td>\n",
       "      <td>2020-12-07</td>\n",
       "      <td>N.America</td>\n",
       "      <td>Mac</td>\n",
       "      <td>1</td>\n",
       "    </tr>\n",
       "  </tbody>\n",
       "</table>\n",
       "</div>"
      ],
      "text/plain": [
       "               user_id            event_dt event_name  details event_dt_date  \\\n",
       "1636  9CD9F34546DF254C 2020-12-08 07:21:15   purchase    99.99    2020-12-08   \n",
       "1637  96F27A054B191457 2020-12-08 09:43:14   purchase     4.99    2020-12-08   \n",
       "1638  6B2F726BFD5F8220 2020-12-08 07:31:43   purchase     4.99    2020-12-08   \n",
       "1639  BEB37715AACF53B0 2020-12-08 03:57:34   purchase     4.99    2020-12-08   \n",
       "1640  B5FA27F582227197 2020-12-08 22:51:25   purchase     4.99    2020-12-08   \n",
       "\n",
       "     first_date     region   device  lifetime  \n",
       "1636 2020-12-07  N.America   iPhone         1  \n",
       "1637 2020-12-07         EU   iPhone         1  \n",
       "1638 2020-12-07         EU  Android         1  \n",
       "1639 2020-12-07         EU  Android         1  \n",
       "1640 2020-12-07  N.America      Mac         1  "
      ]
     },
     "execution_count": 44,
     "metadata": {},
     "output_type": "execute_result"
    }
   ],
   "source": [
    "events['lifetime'] = events.event_dt - events.first_date\n",
    "events.lifetime = events.lifetime.dt.days\n",
    "events.query('lifetime == 1').head()"
   ]
  },
  {
   "cell_type": "markdown",
   "id": "ab8eaa9e",
   "metadata": {},
   "source": [
    "Расчет корректен; уберем все события за пределами двух недель лайфтайма,"
   ]
  },
  {
   "cell_type": "code",
   "execution_count": 45,
   "id": "29756ae2",
   "metadata": {},
   "outputs": [],
   "source": [
    "events = events.query('lifetime <= 13')"
   ]
  },
  {
   "cell_type": "code",
   "execution_count": 46,
   "id": "991bab01",
   "metadata": {},
   "outputs": [
    {
     "data": {
      "text/plain": [
       "3050"
      ]
     },
     "execution_count": 46,
     "metadata": {},
     "output_type": "execute_result"
    }
   ],
   "source": [
    "participants.user_id.nunique()"
   ]
  },
  {
   "cell_type": "code",
   "execution_count": 47,
   "id": "aa38cf2a",
   "metadata": {},
   "outputs": [
    {
     "data": {
      "text/plain": [
       "58262"
      ]
     },
     "execution_count": 47,
     "metadata": {},
     "output_type": "execute_result"
    }
   ],
   "source": [
    "events.user_id.nunique()"
   ]
  },
  {
   "cell_type": "markdown",
   "id": "103ec15b",
   "metadata": {},
   "source": [
    "В событиях пользователей значительно больше, чем в участниках: это нормально, но полезной нагрузки не несет"
   ]
  },
  {
   "cell_type": "markdown",
   "id": "ecc0b07d",
   "metadata": {},
   "source": [
    "Добавим информацию о группе теста в `events`, но предварительно отбросим пользователей, не участвующих в тесте:"
   ]
  },
  {
   "cell_type": "code",
   "execution_count": 48,
   "id": "a4143d07",
   "metadata": {},
   "outputs": [
    {
     "data": {
      "text/plain": [
       "3050"
      ]
     },
     "execution_count": 48,
     "metadata": {},
     "output_type": "execute_result"
    }
   ],
   "source": [
    "events = events[events.user_id.isin(participants.user_id)]\n",
    "events.user_id.nunique()"
   ]
  },
  {
   "cell_type": "code",
   "execution_count": 49,
   "id": "4c01af9c",
   "metadata": {},
   "outputs": [
    {
     "data": {
      "text/html": [
       "<div>\n",
       "<style scoped>\n",
       "    .dataframe tbody tr th:only-of-type {\n",
       "        vertical-align: middle;\n",
       "    }\n",
       "\n",
       "    .dataframe tbody tr th {\n",
       "        vertical-align: top;\n",
       "    }\n",
       "\n",
       "    .dataframe thead th {\n",
       "        text-align: right;\n",
       "    }\n",
       "</style>\n",
       "<table border=\"1\" class=\"dataframe\">\n",
       "  <thead>\n",
       "    <tr style=\"text-align: right;\">\n",
       "      <th></th>\n",
       "      <th>user_id</th>\n",
       "      <th>event_dt</th>\n",
       "      <th>event_name</th>\n",
       "      <th>details</th>\n",
       "      <th>event_dt_date</th>\n",
       "      <th>first_date</th>\n",
       "      <th>region</th>\n",
       "      <th>device</th>\n",
       "      <th>lifetime</th>\n",
       "      <th>group</th>\n",
       "      <th>ab_test</th>\n",
       "    </tr>\n",
       "  </thead>\n",
       "  <tbody>\n",
       "    <tr>\n",
       "      <th>0</th>\n",
       "      <td>831887FE7F2D6CBA</td>\n",
       "      <td>2020-12-07 06:50:29</td>\n",
       "      <td>purchase</td>\n",
       "      <td>4.99</td>\n",
       "      <td>2020-12-07</td>\n",
       "      <td>2020-12-07</td>\n",
       "      <td>EU</td>\n",
       "      <td>Android</td>\n",
       "      <td>0</td>\n",
       "      <td>A</td>\n",
       "      <td>recommender_system_test</td>\n",
       "    </tr>\n",
       "    <tr>\n",
       "      <th>1</th>\n",
       "      <td>3C5DD0288AC4FE23</td>\n",
       "      <td>2020-12-07 19:42:40</td>\n",
       "      <td>purchase</td>\n",
       "      <td>4.99</td>\n",
       "      <td>2020-12-07</td>\n",
       "      <td>2020-12-07</td>\n",
       "      <td>EU</td>\n",
       "      <td>PC</td>\n",
       "      <td>0</td>\n",
       "      <td>A</td>\n",
       "      <td>recommender_system_test</td>\n",
       "    </tr>\n",
       "    <tr>\n",
       "      <th>2</th>\n",
       "      <td>49EA242586C87836</td>\n",
       "      <td>2020-12-07 06:31:24</td>\n",
       "      <td>purchase</td>\n",
       "      <td>99.99</td>\n",
       "      <td>2020-12-07</td>\n",
       "      <td>2020-12-07</td>\n",
       "      <td>EU</td>\n",
       "      <td>iPhone</td>\n",
       "      <td>0</td>\n",
       "      <td>B</td>\n",
       "      <td>recommender_system_test</td>\n",
       "    </tr>\n",
       "    <tr>\n",
       "      <th>3</th>\n",
       "      <td>2B06EB547B7AAD08</td>\n",
       "      <td>2020-12-07 21:36:38</td>\n",
       "      <td>purchase</td>\n",
       "      <td>4.99</td>\n",
       "      <td>2020-12-07</td>\n",
       "      <td>2020-12-07</td>\n",
       "      <td>EU</td>\n",
       "      <td>PC</td>\n",
       "      <td>0</td>\n",
       "      <td>A</td>\n",
       "      <td>recommender_system_test</td>\n",
       "    </tr>\n",
       "    <tr>\n",
       "      <th>4</th>\n",
       "      <td>A640F31CAC7823A6</td>\n",
       "      <td>2020-12-07 18:48:26</td>\n",
       "      <td>purchase</td>\n",
       "      <td>4.99</td>\n",
       "      <td>2020-12-07</td>\n",
       "      <td>2020-12-07</td>\n",
       "      <td>EU</td>\n",
       "      <td>PC</td>\n",
       "      <td>0</td>\n",
       "      <td>B</td>\n",
       "      <td>recommender_system_test</td>\n",
       "    </tr>\n",
       "  </tbody>\n",
       "</table>\n",
       "</div>"
      ],
      "text/plain": [
       "            user_id            event_dt event_name  details event_dt_date  \\\n",
       "0  831887FE7F2D6CBA 2020-12-07 06:50:29   purchase     4.99    2020-12-07   \n",
       "1  3C5DD0288AC4FE23 2020-12-07 19:42:40   purchase     4.99    2020-12-07   \n",
       "2  49EA242586C87836 2020-12-07 06:31:24   purchase    99.99    2020-12-07   \n",
       "3  2B06EB547B7AAD08 2020-12-07 21:36:38   purchase     4.99    2020-12-07   \n",
       "4  A640F31CAC7823A6 2020-12-07 18:48:26   purchase     4.99    2020-12-07   \n",
       "\n",
       "  first_date region   device  lifetime group                  ab_test  \n",
       "0 2020-12-07     EU  Android         0     A  recommender_system_test  \n",
       "1 2020-12-07     EU       PC         0     A  recommender_system_test  \n",
       "2 2020-12-07     EU   iPhone         0     B  recommender_system_test  \n",
       "3 2020-12-07     EU       PC         0     A  recommender_system_test  \n",
       "4 2020-12-07     EU       PC         0     B  recommender_system_test  "
      ]
     },
     "execution_count": 49,
     "metadata": {},
     "output_type": "execute_result"
    }
   ],
   "source": [
    "events = events.merge(participants, how='left', on='user_id')\n",
    "events.head()"
   ]
  },
  {
   "cell_type": "markdown",
   "id": "76d87f75",
   "metadata": {},
   "source": [
    "- Теперь мы можем рассчитать базовую конверсию для действий `product_page` `product_cart` `purchase` и изучить влияние размеров выборок для регистрации эффекта из ТЗ\n",
    "- Конверсию рассчитаем от действия `login`\n",
    "- Посчитаем отношение количества уникальных пользователей для каждого из трех действий из ТЗ к количеству уникальных пользователей на этапе `login`"
   ]
  },
  {
   "cell_type": "code",
   "execution_count": 50,
   "id": "27cc134b",
   "metadata": {},
   "outputs": [
    {
     "data": {
      "text/html": [
       "<div>\n",
       "<style scoped>\n",
       "    .dataframe tbody tr th:only-of-type {\n",
       "        vertical-align: middle;\n",
       "    }\n",
       "\n",
       "    .dataframe tbody tr th {\n",
       "        vertical-align: top;\n",
       "    }\n",
       "\n",
       "    .dataframe thead th {\n",
       "        text-align: right;\n",
       "    }\n",
       "</style>\n",
       "<table border=\"1\" class=\"dataframe\">\n",
       "  <thead>\n",
       "    <tr style=\"text-align: right;\">\n",
       "      <th></th>\n",
       "      <th>product_page</th>\n",
       "      <th>product_cart</th>\n",
       "      <th>purchase</th>\n",
       "    </tr>\n",
       "  </thead>\n",
       "  <tbody>\n",
       "    <tr>\n",
       "      <th>base conversion</th>\n",
       "      <td>0.65</td>\n",
       "      <td>0.30</td>\n",
       "      <td>0.32</td>\n",
       "    </tr>\n",
       "  </tbody>\n",
       "</table>\n",
       "</div>"
      ],
      "text/plain": [
       "                product_page product_cart purchase\n",
       "base conversion         0.65         0.30     0.32"
      ]
     },
     "execution_count": 50,
     "metadata": {},
     "output_type": "execute_result"
    }
   ],
   "source": [
    "base_conversions = pd.DataFrame(columns=['product_page', 'product_cart', 'purchase'])\n",
    "login_users = events.query('event_name == \"login\" and group == \"A\"')['user_id'].nunique()\n",
    "\n",
    "for i in ['product_page', 'product_cart', 'purchase']:\n",
    "    base_conversions.loc[0, i] = events.query('event_name == @i and group == \"A\"')['user_id'].nunique() / login_users\n",
    "\n",
    "base_conversions = base_conversions.rename(index={0:'base conversion'})\n",
    "base_conversions"
   ]
  },
  {
   "cell_type": "markdown",
   "id": "6da06e22",
   "metadata": {},
   "source": [
    "- Детектируемый эффект из ТЗ = 10 % абсолютного прироста в метрику\n",
    "- Поскольку тест будет множественным -- несколько проверок на одних и тех же данных, то необходимо сделать поправку; возьмем поправку Бонферрони; \n",
    "- Оценим величины мощности теста (вероятности корректно принять альтернативную гипотезу) для наших вводных: размеры выборок, регистрируемый эффект, уровень статистической значимости"
   ]
  },
  {
   "cell_type": "code",
   "execution_count": 51,
   "id": "bb6881ed",
   "metadata": {},
   "outputs": [
    {
     "name": "stdout",
     "output_type": "stream",
     "text": [
      "power:\n",
      "\n",
      "product_page 99.8%\n",
      "product_cart 99.6%\n",
      "purchase 99.5%\n"
     ]
    }
   ],
   "source": [
    "alpha = .05 / 3 # applying Bonferroni correction for total significance = 5 %\n",
    "effect = 0.1 # value of detecting effect\n",
    "nobs1 = participants.query('group == \"A\"')['user_id'].count() # size of first sample\n",
    "ratio = participants.query('group == \"B\"')['user_id'].count() / nobs1 # specifying ratio for unbalanced samples\n",
    "\n",
    "\n",
    "print('power:\\n')\n",
    "for i in ['product_page', 'product_cart', 'purchase']:\n",
    "    conv_i = base_conversions.loc['base conversion', i]\n",
    "    effect_st = sms.proportion_effectsize(conv_i, conv_i + effect) # calculating standardized value of effect\n",
    "    power_i = sms.NormalIndPower().solve_power(effect_size=effect_st, # calculating power of test\n",
    "                                           nobs1=nobs1, \n",
    "                                           alpha=alpha, \n",
    "                                           power=None, \n",
    "                                           ratio=ratio, \n",
    "                                           alternative='two-sided')\n",
    "\n",
    "    print(f'{i} {power_i:.1%}')"
   ]
  },
  {
   "cell_type": "markdown",
   "id": "c7e81826",
   "metadata": {},
   "source": [
    "Расчеты показывают, что наших выборок достаточно для регистрации эффекта с высокой мощностью (более 99 %) и совокупным уровнем статистической значимости в 5 %"
   ]
  },
  {
   "cell_type": "markdown",
   "id": "0ae1a6ea",
   "metadata": {},
   "source": [
    "Наконец сравним распределение по устройствам для групп исследования:"
   ]
  },
  {
   "cell_type": "code",
   "execution_count": 52,
   "id": "af11a0e5",
   "metadata": {},
   "outputs": [
    {
     "data": {
      "text/html": [
       "<div>\n",
       "<style scoped>\n",
       "    .dataframe tbody tr th:only-of-type {\n",
       "        vertical-align: middle;\n",
       "    }\n",
       "\n",
       "    .dataframe tbody tr th {\n",
       "        vertical-align: top;\n",
       "    }\n",
       "\n",
       "    .dataframe thead th {\n",
       "        text-align: right;\n",
       "    }\n",
       "</style>\n",
       "<table border=\"1\" class=\"dataframe\">\n",
       "  <thead>\n",
       "    <tr style=\"text-align: right;\">\n",
       "      <th></th>\n",
       "      <th>user_id</th>\n",
       "      <th>group</th>\n",
       "      <th>ab_test</th>\n",
       "      <th>first_date</th>\n",
       "      <th>region</th>\n",
       "      <th>device</th>\n",
       "    </tr>\n",
       "  </thead>\n",
       "  <tbody>\n",
       "    <tr>\n",
       "      <th>0</th>\n",
       "      <td>D1ABA3E2887B6A73</td>\n",
       "      <td>A</td>\n",
       "      <td>recommender_system_test</td>\n",
       "      <td>2020-12-07</td>\n",
       "      <td>EU</td>\n",
       "      <td>PC</td>\n",
       "    </tr>\n",
       "    <tr>\n",
       "      <th>1</th>\n",
       "      <td>A7A3664BD6242119</td>\n",
       "      <td>A</td>\n",
       "      <td>recommender_system_test</td>\n",
       "      <td>2020-12-20</td>\n",
       "      <td>EU</td>\n",
       "      <td>iPhone</td>\n",
       "    </tr>\n",
       "    <tr>\n",
       "      <th>2</th>\n",
       "      <td>DABC14FDDFADD29E</td>\n",
       "      <td>A</td>\n",
       "      <td>recommender_system_test</td>\n",
       "      <td>2020-12-08</td>\n",
       "      <td>EU</td>\n",
       "      <td>Mac</td>\n",
       "    </tr>\n",
       "    <tr>\n",
       "      <th>3</th>\n",
       "      <td>04988C5DF189632E</td>\n",
       "      <td>A</td>\n",
       "      <td>recommender_system_test</td>\n",
       "      <td>2020-12-14</td>\n",
       "      <td>EU</td>\n",
       "      <td>iPhone</td>\n",
       "    </tr>\n",
       "    <tr>\n",
       "      <th>4</th>\n",
       "      <td>4FF2998A348C484F</td>\n",
       "      <td>A</td>\n",
       "      <td>recommender_system_test</td>\n",
       "      <td>2020-12-20</td>\n",
       "      <td>EU</td>\n",
       "      <td>Mac</td>\n",
       "    </tr>\n",
       "  </tbody>\n",
       "</table>\n",
       "</div>"
      ],
      "text/plain": [
       "            user_id group                  ab_test first_date region  device\n",
       "0  D1ABA3E2887B6A73     A  recommender_system_test 2020-12-07     EU      PC\n",
       "1  A7A3664BD6242119     A  recommender_system_test 2020-12-20     EU  iPhone\n",
       "2  DABC14FDDFADD29E     A  recommender_system_test 2020-12-08     EU     Mac\n",
       "3  04988C5DF189632E     A  recommender_system_test 2020-12-14     EU  iPhone\n",
       "4  4FF2998A348C484F     A  recommender_system_test 2020-12-20     EU     Mac"
      ]
     },
     "execution_count": 52,
     "metadata": {},
     "output_type": "execute_result"
    }
   ],
   "source": [
    "participants = participants.merge(new_users, how='left', on='user_id')\n",
    "participants.head()"
   ]
  },
  {
   "cell_type": "code",
   "execution_count": 53,
   "id": "048b5ed9",
   "metadata": {},
   "outputs": [
    {
     "data": {
      "image/png": "[encoded data removed]",
      "text/plain": [
       "<Figure size 640x480 with 2 Axes>"
      ]
     },
     "metadata": {},
     "output_type": "display_data"
    }
   ],
   "source": [
    "fig, ax = plt.subplots(1, 2)\n",
    "colors = sns.color_palette('deep')\n",
    "counter = 0\n",
    "\n",
    "for i in ['A', 'B']:\n",
    "    device_pivot = (participants\n",
    "                    .query('group == @i')\n",
    "                    .groupby('device')['user_id']\n",
    "                    .count()\n",
    "                    .reset_index()\n",
    "                    .rename(columns={'user_id':'cnt'})\n",
    "                    .sort_values(by='cnt'))\n",
    "    \n",
    "    ax[counter].pie(device_pivot.cnt, labels=device_pivot.device, colors=colors, autopct='%1.1f%%')\n",
    "    ax[counter].set(title='Группа '+ i + '\\n', ylabel=None)\n",
    "    counter += 1"
   ]
  },
  {
   "cell_type": "markdown",
   "id": "4b627c3d",
   "metadata": {},
   "source": [
    "- Распределение по устройстам практически идентично, наибольшая разница в доле пользователей `Android`: 2.7 %\n",
    "- Проверим статистическую значимость этой разницы с помощью z-теста\n",
    "- На текущем этапе проверим только для `Android`, как устройства с наибольшим отклонением; в случае отсутствия различий оставшиеся проверять нет смысла"
   ]
  },
  {
   "cell_type": "code",
   "execution_count": 54,
   "id": "51b3f8bc",
   "metadata": {},
   "outputs": [],
   "source": [
    "target_users = [] \n",
    "all_users = []\n",
    "\n",
    "for i in ['A', 'B']:\n",
    "    target_users.append(participants\n",
    "                        .query('group == @i and device == \"Android\"')['user_id']\n",
    "                        .nunique())\n",
    "    \n",
    "    all_users.append(participants\n",
    "                        .query('group == @i')['user_id']\n",
    "                        .nunique())\n"
   ]
  },
  {
   "cell_type": "code",
   "execution_count": 55,
   "id": "a72a5ca5",
   "metadata": {},
   "outputs": [
    {
     "name": "stdout",
     "output_type": "stream",
     "text": [
      "H0: доли пользователей Android в группе А и группе В совпадают \n",
      "H1: доли пользователей Android в группе А и группе В отличаются\n",
      "\n",
      "p-value: 0.20 alpha: 0.05\n"
     ]
    }
   ],
   "source": [
    "print('H0: доли пользователей Android в группе А и группе В совпадают \\nH1: доли пользователей Android в группе А и группе В отличаются\\n')\n",
    "print(f'p-value: {proportions_ztest(target_users, all_users, alternative=\"two-sided\")[1]:.2f} alpha: {0.05:.2f}')\n"
   ]
  },
  {
   "cell_type": "markdown",
   "id": "019ff0b5",
   "metadata": {},
   "source": [
    "- Вероятность ошибки при отказе от `H0` превышает принятый уровень значимости\n",
    "- Не удалось отвергнуть `H0` -- нет статистически значимого различия в долях групп"
   ]
  },
  {
   "cell_type": "markdown",
   "id": "78c90ff3",
   "metadata": {},
   "source": [
    "С точки зрения распределения по типам устройств дизайн исследования корректен"
   ]
  },
  {
   "cell_type": "markdown",
   "id": "15341b6a",
   "metadata": {},
   "source": [
    "### **Вывод**"
   ]
  },
  {
   "cell_type": "markdown",
   "id": "dfa41509",
   "metadata": {},
   "source": [
    "- Тест закончен раньше запланированного срока\n",
    "- Доля новых пользователей из `EU` 13 % вместо 15 % -- снижен охват целевой аудитории тестом\n",
    "- В тесте участвовали не только пользователи из `EU`, были убраны пользователи из других регионов, чтобы не размывать результат\n",
    "- Общее число тестируемых ниже целевого: 5500 вместо 6000 по ТЗ\n",
    "- Есть пересечение с маркетинговой кампанией `Christmas&New Year Promo` с `2020-12-25` и до конца теста (шесть дней)\n",
    "    - Изменений в динамике событий после начала кампании не обнаружено для обеих групп\n",
    "- Пользователи не относятся к двум группам сразу\n",
    "- Есть пользователи, не совершившие ни одного действия\n",
    "    - В вопросах конверсии действий такие пользователи бесполезны, они удалены\n",
    "- Все действия за пределами двухнедельного лайфтайма пользователя удалены\n",
    "- Размеры выборок соответствуют необходимым значениям регистрируемого эффекта, базовым конверсиям и уровню статистической значимости (с поправкой на множественные тесты) \n",
    "- Распределение по устройствам в группах совпадает\n",
    "- **Тест пригоден для изучения**"
   ]
  },
  {
   "cell_type": "markdown",
   "id": "3ceb3816",
   "metadata": {},
   "source": [
    "## Исследовательский анализ"
   ]
  },
  {
   "cell_type": "markdown",
   "id": "3bd4031d",
   "metadata": {},
   "source": [
    "Изучим количество событий на пользователя в выборках"
   ]
  },
  {
   "cell_type": "code",
   "execution_count": 56,
   "id": "c2cf9856",
   "metadata": {},
   "outputs": [
    {
     "data": {
      "image/png": "[encoded data removed]",
      "text/plain": [
       "<Figure size 1000x300 with 2 Axes>"
      ]
     },
     "metadata": {},
     "output_type": "display_data"
    }
   ],
   "source": [
    "fig, ax = plt.subplots(1, 2)\n",
    "fig.set(size_inches=(10, 3), tight_layout=True)\n",
    "fig.suptitle('Плотность частоты действий пользователей', size=14)\n",
    "counter = 0\n",
    "\n",
    "for i in ['A', 'B']:\n",
    "    actions_x_users = (events\n",
    "                    .query('group == @i')\n",
    "                    .groupby('user_id')['event_name']\n",
    "                    .count()\n",
    "                    .reset_index()\n",
    "                    .rename(columns={'event_name':'cnt'}))\n",
    "    \n",
    "    sns.histplot(ax=ax[counter], \n",
    "                 data=actions_x_users, \n",
    "                 x='cnt', \n",
    "                 bins=26, \n",
    "                 stat='density', \n",
    "                 common_norm=False, \n",
    "                 binwidth=1)\n",
    "    ax[counter].set(title='Группа '+ i, ylabel=None, xlabel='Действия')\n",
    "    counter += 1"
   ]
  },
  {
   "cell_type": "markdown",
   "id": "f3abacc1",
   "metadata": {},
   "source": [
    "- Общая форма распределения количества действий у пользователей для групп совпадает\n",
    "- Ключевое отличие: для группы А больше доля пользователей, совершивших 8-9 действий в сравнении с долей пользователей, совершивших 2-3 действий, а для группы В наоборот\n",
    "- Больше 15-ти действий для обеих групп -- выбросы\n",
    "- В обеих группах мало количество пользователей, совершивших одно, пять, семь, десять и одиннадцать действий"
   ]
  },
  {
   "cell_type": "code",
   "execution_count": 57,
   "id": "88ae472e",
   "metadata": {},
   "outputs": [
    {
     "name": "stdout",
     "output_type": "stream",
     "text": [
      "Среднее количество действий на пользователя:\n",
      "\n",
      "Группа A: 6.9\n",
      "Группа B: 5.3\n",
      "отклонение -22.5%\n"
     ]
    }
   ],
   "source": [
    "cons = []\n",
    "print('Среднее количество действий на пользователя:\\n')\n",
    "for i in ['A', 'B']:\n",
    "    act_per_user_i = events.query('group == @i').shape[0] / events.query('group == @i')['user_id'].nunique()\n",
    "    cons.append(act_per_user_i)\n",
    "    print(f'Группа {i}: {act_per_user_i:.1f}')\n",
    "    \n",
    "print(f'отклонение {(cons[1] - cons[0]) / cons[0]:.1%}')"
   ]
  },
  {
   "cell_type": "markdown",
   "id": "ba2c3c7c",
   "metadata": {},
   "source": [
    "Получено достаточно большое отклонение, но все же применим t-тест и оценим, является ли оно статистически значимым"
   ]
  },
  {
   "cell_type": "code",
   "execution_count": 58,
   "id": "4e8aee6d",
   "metadata": {},
   "outputs": [
    {
     "name": "stdout",
     "output_type": "stream",
     "text": [
      "H0: среднее количество действий группы А не отличается от среднего группы В\n",
      "H1: среднее количество действий группы А отличается от среднего группы В\n",
      "\n",
      "отвергаем нулевую гипотезу в пользу альтернативной\n"
     ]
    }
   ],
   "source": [
    "sample_A = (events.query('group == \"A\"')\n",
    "            .groupby('user_id')['event_name']\n",
    "            .count())\n",
    "\n",
    "sample_B = (events.query('group == \"B\"')\n",
    "            .groupby('user_id')['event_name']\n",
    "            .count())\n",
    "            \n",
    "p_val = st.ttest_ind(sample_A, sample_B, equal_var=False).pvalue\n",
    "    \n",
    "print(f'H0: среднее количество действий группы А не отличается от среднего группы В')\n",
    "print(f'H1: среднее количество действий группы А отличается от среднего группы В')\n",
    "print()\n",
    "if p_val < alpha:\n",
    "    print('отвергаем нулевую гипотезу в пользу альтернативной')\n",
    "else: print('не удалось отвергнуть нулевую гипотезу')"
   ]
  },
  {
   "cell_type": "markdown",
   "id": "4abf5ff0",
   "metadata": {},
   "source": [
    "Действительно, в контрольной группе более активные пользователи в сравнении с тестовой группой"
   ]
  },
  {
   "cell_type": "markdown",
   "id": "08220868",
   "metadata": {},
   "source": [
    "Изучим динамику действий во времени:"
   ]
  },
  {
   "cell_type": "code",
   "execution_count": 59,
   "id": "934c99ec",
   "metadata": {},
   "outputs": [
    {
     "data": {
      "image/png": "[encoded data removed]",
      "text/plain": [
       "<Figure size 1000x500 with 1 Axes>"
      ]
     },
     "metadata": {},
     "output_type": "display_data"
    }
   ],
   "source": [
    "target_test_A = participants.query('group == \"A\"')['user_id']\n",
    "target_test_B = participants.query('group == \"B\"')['user_id']\n",
    "\n",
    "\n",
    "events_dynamics_A = (events\n",
    "                   .query('user_id.isin(@target_test_A)')\n",
    "                   .groupby('event_dt_date')\n",
    "                   .agg({'user_id':['count', 'nunique']})\n",
    "                   .reset_index()\n",
    "                   .droplevel(0, axis=1)\n",
    "                   )\n",
    "events_dynamics_A.columns=['event_dt_date', 'events_cnt', 'user_cnt']\n",
    "events_dynamics_A['events_on_user'] = events_dynamics_A.events_cnt / events_dynamics_A.user_cnt\n",
    "\n",
    "events_dynamics_B = (events\n",
    "                   .query('user_id.isin(@target_test_B)')\n",
    "                   .groupby('event_dt_date')\n",
    "                   .agg({'user_id':['count', 'nunique']})\n",
    "                   .reset_index()\n",
    "                   .droplevel(0, axis=1)\n",
    "                   )\n",
    "events_dynamics_B.columns=['event_dt_date', 'events_cnt', 'user_cnt']\n",
    "events_dynamics_B['events_on_user'] = events_dynamics_B.events_cnt / events_dynamics_B.user_cnt\n",
    "\n",
    "\n",
    "fig, ax = plt.subplots(sharey=True)\n",
    "fig.set(size_inches=(10, 5), tight_layout=True)\n",
    "\n",
    "sns.lineplot(ax=ax, data=events_dynamics_A, x='event_dt_date', y='events_on_user', label='Группа А');\n",
    "sns.lineplot(ax=ax, data=events_dynamics_B, x='event_dt_date', y='events_on_user', label='Группа В');\n",
    "\n",
    "ax.set(xlabel=None, ylabel='количество событий на пользователя', title='Динамика событий в тестовых группах \\n');"
   ]
  },
  {
   "cell_type": "markdown",
   "id": "4e68459e",
   "metadata": {},
   "source": [
    "- Количество действий на пользователя в тестовой группе стабильно ниже в сравнении с контрольной\n",
    "- До `2020-12-16` группы демонстрируют похожую динамику удельного количества действий\n",
    "- После `2020-12-16` количество действий в группе А стабилизизуется, а в группе В постепенно падает\n",
    "- Графики динамики повторяют выводы, сделанные на основании среднего количества действий пользователей групп: в группе В меньше активности"
   ]
  },
  {
   "cell_type": "markdown",
   "id": "46232aac",
   "metadata": {},
   "source": [
    "Построим продуктовые воронки для обеих групп"
   ]
  },
  {
   "cell_type": "code",
   "execution_count": 60,
   "id": "5b8543a4",
   "metadata": {},
   "outputs": [
    {
     "data": {
      "image/png": "[encoded data removed]",
      "text/plain": [
       "<Figure size 900x500 with 1 Axes>"
      ]
     },
     "metadata": {},
     "output_type": "display_data"
    }
   ],
   "source": [
    "actions_x_users_A = (events.query('group == \"A\"') # pivot table for plot\n",
    "                     .groupby('event_name')['user_id']\n",
    "                     .nunique()\n",
    "                     .reset_index())\n",
    "actions_x_users_A.loc[0, 'sort'] = 0\n",
    "actions_x_users_A.loc[2, 'sort'] = 1\n",
    "actions_x_users_A.loc[1, 'sort'] = 2\n",
    "actions_x_users_A.loc[3, 'sort'] = 3\n",
    "actions_x_users_A = actions_x_users_A.sort_values(by='sort').rename(columns={'user_id':'user_cnt'})\n",
    "\n",
    "fig, ax = plt.subplots()\n",
    "fig.set(size_inches=(9, 5), tight_layout=True)\n",
    "\n",
    "sns.barplot(data=actions_x_users_A, x='user_cnt', y='event_name', palette='deep');\n",
    "ax.bar_label(ax.containers[0]);\n",
    "ax.set(ylabel=None, xlabel='количество пользователей', title='Продуктовая воронка для группы А \\n');"
   ]
  },
  {
   "cell_type": "code",
   "execution_count": 61,
   "id": "fd5281d7",
   "metadata": {},
   "outputs": [
    {
     "data": {
      "image/png": "[encoded data removed]",
      "text/plain": [
       "<Figure size 900x500 with 1 Axes>"
      ]
     },
     "metadata": {},
     "output_type": "display_data"
    }
   ],
   "source": [
    "actions_x_users_B = (events.query('group == \"B\"')\n",
    "                     .groupby('event_name')['user_id']\n",
    "                     .nunique()\n",
    "                     .reset_index())\n",
    "actions_x_users_B.loc[0, 'sort'] = 0\n",
    "actions_x_users_B.loc[2, 'sort'] = 1\n",
    "actions_x_users_B.loc[1, 'sort'] = 2\n",
    "actions_x_users_B.loc[3, 'sort'] = 3\n",
    "actions_x_users_B = actions_x_users_B.sort_values(by='sort').rename(columns={'user_id':'user_cnt'})\n",
    "\n",
    "fig, ax = plt.subplots()\n",
    "fig.set(size_inches=(9, 5), tight_layout=True)\n",
    "\n",
    "sns.barplot(data=actions_x_users_B, x='user_cnt', y='event_name', palette='deep');\n",
    "ax.bar_label(ax.containers[0]);\n",
    "ax.set(ylabel=None, xlabel='количество пользователей', title='Продуктовая воронка для группы В \\n');"
   ]
  },
  {
   "cell_type": "markdown",
   "id": "8d2095dc",
   "metadata": {},
   "source": [
    "- Просмотр корзины -- не обязательное действие, можно приобрести товар без просмотра\n",
    "- Группа В смотрится хуже на всех этапах воронки"
   ]
  },
  {
   "cell_type": "markdown",
   "id": "ab4e0bc9",
   "metadata": {},
   "source": [
    "### **Вывод**"
   ]
  },
  {
   "cell_type": "markdown",
   "id": "69fdcc97",
   "metadata": {},
   "source": [
    "- Распределение количества действий у пользователей в группах А и В совпадает по форме\n",
    "    - Ключевое отличие: для группы А больше доля пользователей, совершивших 8-9 действий в сравнении с долей пользователей, совершивших 2-3 действий, а для группы В наоборот \n",
    "    - Среднее количество действий на пользователя в группе А больше на 23 %\n",
    "- Динамика действий для групп отличается\n",
    "    - По группе В нет выхода на плато с даты `2020-12-16` \n",
    "- Сравнение продуктовых воронок показывает ухудшение показателей для группы В\n",
    "    - Все шаги с меньшей конверсий, наибольшая разница по событию `product_page`"
   ]
  },
  {
   "cell_type": "markdown",
   "id": "387d1bec",
   "metadata": {},
   "source": [
    "## Анализ результатов теста"
   ]
  },
  {
   "cell_type": "markdown",
   "id": "29523052",
   "metadata": {},
   "source": [
    "Применим z-тест для долей, чтобы оценить: является ли статистически значимым отклонение в конверсиях между группами?"
   ]
  },
  {
   "cell_type": "code",
   "execution_count": 62,
   "id": "8a1fb413",
   "metadata": {},
   "outputs": [
    {
     "name": "stdout",
     "output_type": "stream",
     "text": [
      "-----------------------\n",
      "product_page\n",
      "\n",
      "H0: Две группы демонстрируют одинаковую конверсию; статистически значимых отличий нет\n",
      "H1: Две группы демонстрируют разную конверсию; статистически значимые отличия есть\n",
      "\n",
      "конверсия А: 0.648 / конверсия В: 0.556\n",
      "p-value: 6.12e-06  / alpha: 0.02\n",
      "\n",
      "+ отвергаем нулевую гипотезу в пользу альтернативной\n",
      "-----------------------\n",
      "product_cart\n",
      "\n",
      "H0: Две группы демонстрируют одинаковую конверсию; статистически значимых отличий нет\n",
      "H1: Две группы демонстрируют разную конверсию; статистически значимые отличия есть\n",
      "\n",
      "конверсия А: 0.301 / конверсия В: 0.278\n",
      "p-value: 0.22  / alpha: 0.02\n",
      "\n",
      "- не удалось отвергнуть нулевую гипотезу\n",
      "-----------------------\n",
      "purchase\n",
      "\n",
      "H0: Две группы демонстрируют одинаковую конверсию; статистически значимых отличий нет\n",
      "H1: Две группы демонстрируют разную конверсию; статистически значимые отличия есть\n",
      "\n",
      "конверсия А: 0.322 / конверсия В: 0.284\n",
      "p-value: 0.05  / alpha: 0.02\n",
      "\n",
      "- не удалось отвергнуть нулевую гипотезу\n"
     ]
    }
   ],
   "source": [
    "alpha = .05 / 3\n",
    "\n",
    "# iterating events\n",
    "for i in ['product_page', 'product_cart', 'purchase']:\n",
    "    target_users = []\n",
    "    all_users = []\n",
    "\n",
    "# iterating groups\n",
    "    for j in ['A', 'B']:\n",
    "        target_users.append(events\n",
    "                            .query('group == @j and event_name == @i')['user_id']\n",
    "                            .nunique())\n",
    "        all_users.append(events\n",
    "                            .query('group == @j')['user_id']\n",
    "                            .nunique())\n",
    "# calculating p-value        \n",
    "    pval = proportions_ztest(target_users, all_users, alternative=\"two-sided\")[1]\n",
    "    \n",
    "# printing results\n",
    "\n",
    "    print('-----------------------')\n",
    "    print(i)\n",
    "    print()\n",
    "    print(f'H0: Две группы демонстрируют одинаковую конверсию; статистически значимых отличий нет')\n",
    "    print(f'H1: Две группы демонстрируют разную конверсию; статистически значимые отличия есть')\n",
    "    print()\n",
    "    print(f'конверсия А: {target_users[0] / all_users[0]:.3f} / конверсия В: {target_users[1] / all_users[1]:.3f}')\n",
    "    if i == 'product_page':\n",
    "        print(f'p-value: {pval:.2e}  / alpha: {alpha:.2f}')\n",
    "    else: print(f'p-value: {pval:.2f}  / alpha: {alpha:.2f}')\n",
    "    \n",
    "    print()\n",
    "    if pval < alpha:\n",
    "        print('+ отвергаем нулевую гипотезу в пользу альтернативной')\n",
    "    else: print('- не удалось отвергнуть нулевую гипотезу')"
   ]
  },
  {
   "cell_type": "markdown",
   "id": "958083ba",
   "metadata": {},
   "source": [
    "### **Вывод**"
   ]
  },
  {
   "cell_type": "markdown",
   "id": "b20da196",
   "metadata": {},
   "source": [
    "- Для события `product_page` нулевая гипотеза отвергнута: нет оснований полагать, что конверсии одинаковы\n",
    "    - Сравнение величин конверсий для группы А и В показывает снижение конверсии в тестовой группе\n",
    "- Для событий `product_cart` и `purhcase` не удалось отвергнуть нулевую гипотезу: нет статистически значимого различия в конверсии между контрольной и тестовой группами "
   ]
  },
  {
   "cell_type": "markdown",
   "id": "31dffcc2",
   "metadata": {},
   "source": [
    "## **Общий вывод**"
   ]
  },
  {
   "cell_type": "markdown",
   "id": "26d3cb38",
   "metadata": {},
   "source": [
    "**Предобработка**\n",
    "\n",
    "- Пропуски в данных только в датасете `events` в колонке `details` \n",
    "    - Пропуски соответствуют всем событиям, не являющимся событием `purchase`, что соответствует описанию данных\n",
    "    - Пропуски оставлены в первоначальном виде\n",
    "- Дата приведена к типу `datetime`\n",
    "- Обнаружены повторяющиеся `user_id` в `participants` -- \n",
    "    - Явление связано с участием одних и тех же пользователей в разных тестах\n",
    "    - Удалены пересечения пользователей с группой В конкурирующего теста\n",
    "    \n",
    "**Проверка на корректность**\n",
    "\n",
    "- Тест закончен раньше запланированного срока\n",
    "- Доля новых пользователей из `EU` 13 % вместо 15 % -- снижен охват целевой аудитории тестом\n",
    "- В тесте участвовали не только пользователи из `EU`, были убраны пользователи из других регионов, чтобы не размывать результат\n",
    "- Общее число тестируемых ниже целевого: 5500 вместо 6000 по ТЗ\n",
    "- Есть пересечение с маркетинговой кампанией `Christmas&New Year Promo` с `2020-12-25` и до конца теста (шесть дней)\n",
    "    - Изменений в динамике событий после начала кампании не обнаружено для обеих групп\n",
    "- Пользователи не относятся к двум группам сразу\n",
    "- Есть пользователи, не совершившие ни одного действия\n",
    "    - В вопросах конверсии действий такие пользователи бесполезны, они удалены\n",
    "- Все действия за пределами двухнедельного лайфтайма пользователя удалены\n",
    "- Размеры выборок соответствуют необходимым значениям регистрируемого эффекта, базовым конверсиям и уровню статистической значимости (с поправкой на множественные тесты) \n",
    "- Распределение по устройствам в группах совпадает\n",
    "- Тест пригоден для изучения\n",
    "\n",
    "**Исследовательский анализ**\n",
    "\n",
    "- Распределение количества действий у пользователей в группах А и В совпадает по форме\n",
    "    - Ключевое отличие: для группы А больше доля пользователей, совершивших 8-9 действий в сравнении с долей пользователей, совершивших 2-3 действий, а для группы В наоборот \n",
    "    - Среднее количество действий на пользователя в группе А больше на 23 % -- здесь более активные пользователи  \n",
    "- Динамика действий для групп отличается\n",
    "    - По группе В нет резкого роста и выхода на высокие значения с `2020-12-13` \n",
    "- Сравнение продуктовых воронок показывает ухудшение показателей для группы В\n",
    "    - Все шаги с меньшей конверсий, наибольшая разница по событию `product_page`\n",
    "    \n",
    "\n",
    "**Анализ результатов теста**\n",
    "  \n",
    "   - Для события `product_page` нулевая гипотеза отвергнута: нет оснований полагать, что конверсии одинаковы\n",
    "    - Сравнение величин конверсий для группы А и В показывает снижение конверсии в тестовой группе\n",
    "- Для событий `product_cart` и `purhcase` не удалось отвергнуть нулевую гипотезу: нет статистически значимого различия в конверсии между контрольной и тестовой группами  \n",
    "\n",
    "\n",
    "**Рекомендации**\n",
    "\n",
    "Не рекомендуется масштабировать улучшенную рекомендательную систему на всех пользователей"
   ]
  }
 ],
 "metadata": {
  "ExecuteTimeLog": [
   {
    "duration": 2038,
    "start_time": "2023-04-24T14:22:34.795Z"
   },
   {
    "duration": 1638,
    "start_time": "2023-04-24T14:22:36.835Z"
   },
   {
    "duration": 26,
    "start_time": "2023-04-24T14:22:38.475Z"
   },
   {
    "duration": 114,
    "start_time": "2023-04-24T14:22:38.504Z"
   },
   {
    "duration": 35,
    "start_time": "2023-04-24T14:22:38.622Z"
   },
   {
    "duration": 27,
    "start_time": "2023-04-24T14:22:38.660Z"
   },
   {
    "duration": 8,
    "start_time": "2023-04-24T14:22:38.689Z"
   },
   {
    "duration": 100,
    "start_time": "2023-04-24T14:22:38.698Z"
   },
   {
    "duration": 18,
    "start_time": "2023-04-24T14:22:38.801Z"
   },
   {
    "duration": 191,
    "start_time": "2023-04-24T14:22:38.821Z"
   },
   {
    "duration": 39,
    "start_time": "2023-04-24T14:22:39.015Z"
   },
   {
    "duration": 49,
    "start_time": "2023-04-24T14:22:39.056Z"
   },
   {
    "duration": 35,
    "start_time": "2023-04-24T14:22:39.107Z"
   },
   {
    "duration": 6,
    "start_time": "2023-04-24T14:22:39.146Z"
   },
   {
    "duration": 170,
    "start_time": "2023-04-24T14:22:39.154Z"
   },
   {
    "duration": 22,
    "start_time": "2023-04-24T14:22:39.327Z"
   },
   {
    "duration": 277,
    "start_time": "2023-04-24T14:22:39.352Z"
   },
   {
    "duration": 52,
    "start_time": "2023-04-24T14:22:39.631Z"
   },
   {
    "duration": 99,
    "start_time": "2023-04-24T14:22:39.686Z"
   },
   {
    "duration": 52,
    "start_time": "2023-04-24T14:22:39.788Z"
   },
   {
    "duration": 119,
    "start_time": "2023-04-24T14:22:39.843Z"
   },
   {
    "duration": 19,
    "start_time": "2023-04-24T14:22:39.964Z"
   },
   {
    "duration": 23,
    "start_time": "2023-04-24T14:22:39.986Z"
   },
   {
    "duration": 20,
    "start_time": "2023-04-24T14:22:40.012Z"
   },
   {
    "duration": 17,
    "start_time": "2023-04-24T14:22:40.041Z"
   },
   {
    "duration": 192,
    "start_time": "2023-04-24T14:22:40.061Z"
   },
   {
    "duration": 26,
    "start_time": "2023-04-24T14:22:40.255Z"
   },
   {
    "duration": 28,
    "start_time": "2023-04-24T14:22:40.283Z"
   },
   {
    "duration": 37,
    "start_time": "2023-04-24T14:22:40.313Z"
   },
   {
    "duration": 24,
    "start_time": "2023-04-24T14:22:40.352Z"
   },
   {
    "duration": 6,
    "start_time": "2023-04-24T14:22:40.378Z"
   },
   {
    "duration": 28,
    "start_time": "2023-04-24T14:22:40.386Z"
   },
   {
    "duration": 45,
    "start_time": "2023-04-24T14:22:40.416Z"
   },
   {
    "duration": 696,
    "start_time": "2023-04-24T14:22:40.464Z"
   },
   {
    "duration": 390,
    "start_time": "2023-04-24T14:22:41.162Z"
   },
   {
    "duration": 378,
    "start_time": "2023-04-24T14:22:41.554Z"
   },
   {
    "duration": 11,
    "start_time": "2023-04-24T14:22:41.940Z"
   },
   {
    "duration": 18,
    "start_time": "2023-04-24T14:22:41.954Z"
   },
   {
    "duration": 117,
    "start_time": "2023-04-24T14:22:41.975Z"
   },
   {
    "duration": 20,
    "start_time": "2023-04-24T14:22:42.094Z"
   },
   {
    "duration": 312,
    "start_time": "2023-04-24T14:22:42.118Z"
   },
   {
    "duration": 126,
    "start_time": "2023-04-24T14:22:42.432Z"
   },
   {
    "duration": 47,
    "start_time": "2023-04-24T14:22:42.560Z"
   },
   {
    "duration": 7,
    "start_time": "2023-04-24T14:22:42.609Z"
   },
   {
    "duration": 136,
    "start_time": "2023-04-24T14:22:42.618Z"
   },
   {
    "duration": 70,
    "start_time": "2023-04-24T14:22:42.756Z"
   },
   {
    "duration": 35,
    "start_time": "2023-04-24T14:22:42.842Z"
   },
   {
    "duration": 68,
    "start_time": "2023-04-24T14:22:42.879Z"
   },
   {
    "duration": 17,
    "start_time": "2023-04-24T14:22:42.949Z"
   },
   {
    "duration": 73,
    "start_time": "2023-04-24T14:22:42.968Z"
   },
   {
    "duration": 199,
    "start_time": "2023-04-24T14:22:43.043Z"
   },
   {
    "duration": 19,
    "start_time": "2023-04-24T14:22:43.244Z"
   },
   {
    "duration": 5,
    "start_time": "2023-04-24T14:22:43.265Z"
   },
   {
    "duration": 618,
    "start_time": "2023-04-24T14:22:43.272Z"
   },
   {
    "duration": 32,
    "start_time": "2023-04-24T14:22:43.892Z"
   },
   {
    "duration": 27,
    "start_time": "2023-04-24T14:22:43.942Z"
   },
   {
    "duration": 565,
    "start_time": "2023-04-24T14:22:43.972Z"
   },
   {
    "duration": 731,
    "start_time": "2023-04-24T14:22:44.542Z"
   },
   {
    "duration": 68,
    "start_time": "2023-04-24T14:22:45.276Z"
   },
   {
    "duration": 156,
    "start_time": "2023-04-24T14:22:45.346Z"
   },
   {
    "duration": 13,
    "start_time": "2023-04-24T14:25:15.708Z"
   },
   {
    "duration": 87,
    "start_time": "2023-04-24T14:29:17.811Z"
   },
   {
    "duration": 1387,
    "start_time": "2023-04-25T19:04:50.976Z"
   },
   {
    "duration": 1279,
    "start_time": "2023-04-25T19:04:52.366Z"
   },
   {
    "duration": 28,
    "start_time": "2023-04-25T19:04:53.647Z"
   },
   {
    "duration": 60,
    "start_time": "2023-04-25T19:04:53.677Z"
   },
   {
    "duration": 29,
    "start_time": "2023-04-25T19:04:53.757Z"
   },
   {
    "duration": 31,
    "start_time": "2023-04-25T19:04:53.788Z"
   },
   {
    "duration": 19,
    "start_time": "2023-04-25T19:04:53.821Z"
   },
   {
    "duration": 70,
    "start_time": "2023-04-25T19:04:53.842Z"
   },
   {
    "duration": 19,
    "start_time": "2023-04-25T19:04:53.915Z"
   },
   {
    "duration": 206,
    "start_time": "2023-04-25T19:04:53.935Z"
   },
   {
    "duration": 25,
    "start_time": "2023-04-25T19:04:54.143Z"
   },
   {
    "duration": 77,
    "start_time": "2023-04-25T19:04:54.171Z"
   },
   {
    "duration": 12,
    "start_time": "2023-04-25T19:04:54.250Z"
   },
   {
    "duration": 6,
    "start_time": "2023-04-25T19:04:54.265Z"
   },
   {
    "duration": 123,
    "start_time": "2023-04-25T19:04:54.273Z"
   },
   {
    "duration": 9,
    "start_time": "2023-04-25T19:04:54.399Z"
   },
   {
    "duration": 208,
    "start_time": "2023-04-25T19:04:54.410Z"
   },
   {
    "duration": 46,
    "start_time": "2023-04-25T19:04:54.620Z"
   },
   {
    "duration": 25,
    "start_time": "2023-04-25T19:04:54.668Z"
   },
   {
    "duration": 19,
    "start_time": "2023-04-25T19:04:54.695Z"
   },
   {
    "duration": 114,
    "start_time": "2023-04-25T19:04:54.716Z"
   },
   {
    "duration": 28,
    "start_time": "2023-04-25T19:04:54.832Z"
   },
   {
    "duration": 7,
    "start_time": "2023-04-25T19:04:54.863Z"
   },
   {
    "duration": 10,
    "start_time": "2023-04-25T19:04:54.872Z"
   },
   {
    "duration": 10,
    "start_time": "2023-04-25T19:04:54.883Z"
   },
   {
    "duration": 156,
    "start_time": "2023-04-25T19:04:54.895Z"
   },
   {
    "duration": 11,
    "start_time": "2023-04-25T19:04:55.055Z"
   },
   {
    "duration": 365,
    "start_time": "2023-04-25T19:04:55.068Z"
   },
   {
    "duration": 29,
    "start_time": "2023-04-25T19:04:55.435Z"
   },
   {
    "duration": 24,
    "start_time": "2023-04-25T19:04:55.466Z"
   },
   {
    "duration": 37,
    "start_time": "2023-04-25T19:04:55.492Z"
   },
   {
    "duration": 27,
    "start_time": "2023-04-25T19:04:55.531Z"
   },
   {
    "duration": 4,
    "start_time": "2023-04-25T19:04:55.560Z"
   },
   {
    "duration": 18,
    "start_time": "2023-04-25T19:04:55.566Z"
   },
   {
    "duration": 22,
    "start_time": "2023-04-25T19:04:55.586Z"
   },
   {
    "duration": 563,
    "start_time": "2023-04-25T19:04:55.610Z"
   },
   {
    "duration": 367,
    "start_time": "2023-04-25T19:04:56.176Z"
   },
   {
    "duration": 432,
    "start_time": "2023-04-25T19:04:56.555Z"
   },
   {
    "duration": 10,
    "start_time": "2023-04-25T19:04:56.989Z"
   },
   {
    "duration": 10,
    "start_time": "2023-04-25T19:04:57.001Z"
   },
   {
    "duration": 107,
    "start_time": "2023-04-25T19:04:57.016Z"
   },
   {
    "duration": 15,
    "start_time": "2023-04-25T19:04:57.125Z"
   },
   {
    "duration": 283,
    "start_time": "2023-04-25T19:04:57.141Z"
   },
   {
    "duration": 121,
    "start_time": "2023-04-25T19:04:57.426Z"
   },
   {
    "duration": 44,
    "start_time": "2023-04-25T19:04:57.549Z"
   },
   {
    "duration": 7,
    "start_time": "2023-04-25T19:04:57.595Z"
   },
   {
    "duration": 116,
    "start_time": "2023-04-25T19:04:57.603Z"
   },
   {
    "duration": 67,
    "start_time": "2023-04-25T19:04:57.721Z"
   },
   {
    "duration": 45,
    "start_time": "2023-04-25T19:04:57.790Z"
   },
   {
    "duration": 56,
    "start_time": "2023-04-25T19:04:57.837Z"
   },
   {
    "duration": 15,
    "start_time": "2023-04-25T19:04:57.895Z"
   },
   {
    "duration": 70,
    "start_time": "2023-04-25T19:04:57.911Z"
   },
   {
    "duration": 182,
    "start_time": "2023-04-25T19:04:57.982Z"
   },
   {
    "duration": 18,
    "start_time": "2023-04-25T19:04:58.167Z"
   },
   {
    "duration": 5,
    "start_time": "2023-04-25T19:04:58.186Z"
   },
   {
    "duration": 494,
    "start_time": "2023-04-25T19:04:58.193Z"
   },
   {
    "duration": 27,
    "start_time": "2023-04-25T19:04:58.689Z"
   },
   {
    "duration": 53,
    "start_time": "2023-04-25T19:04:58.718Z"
   },
   {
    "duration": 579,
    "start_time": "2023-04-25T19:04:58.774Z"
   },
   {
    "duration": 678,
    "start_time": "2023-04-25T19:04:59.355Z"
   },
   {
    "duration": 45,
    "start_time": "2023-04-25T19:05:00.036Z"
   },
   {
    "duration": 190,
    "start_time": "2023-04-25T19:05:00.083Z"
   },
   {
    "duration": 111,
    "start_time": "2023-04-25T19:05:08.654Z"
   },
   {
    "duration": 160,
    "start_time": "2023-04-25T19:05:12.220Z"
   },
   {
    "duration": 10,
    "start_time": "2023-04-25T19:05:19.277Z"
   },
   {
    "duration": 11,
    "start_time": "2023-04-25T19:05:29.757Z"
   }
  ],
  "hide_input": false,
  "kernelspec": {
   "display_name": "Python 3 (ipykernel)",
   "language": "python",
   "name": "python3"
  },
  "language_info": {
   "codemirror_mode": {
    "name": "ipython",
    "version": 3
   },
   "file_extension": ".py",
   "mimetype": "text/x-python",
   "name": "python",
   "nbconvert_exporter": "python",
   "pygments_lexer": "ipython3",
   "version": "3.9.15"
  },
  "toc": {
   "base_numbering": 1,
   "nav_menu": {},
   "number_sections": true,
   "sideBar": true,
   "skip_h1_title": true,
   "title_cell": "Table of Contents",
   "title_sidebar": "Contents",
   "toc_cell": false,
   "toc_position": {
    "height": "calc(100% - 180px)",
    "left": "10px",
    "top": "150px",
    "width": "272.594px"
   },
   "toc_section_display": true,
   "toc_window_display": false
  }
 },
 "nbformat": 4,
 "nbformat_minor": 5
}
